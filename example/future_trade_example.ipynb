{
 "cells": [
  {
   "cell_type": "code",
   "execution_count": 2,
   "metadata": {},
   "outputs": [],
   "source": [
    "from okx_quant.utils.config_utils import ConfigUtils\n",
    "from okx_quant.future.future import *\n",
    "from okx_quant.core.core import *\n",
    "\n",
    "config_path = '../config/config.toml'\n",
    "config_utils = ConfigUtils(config_path)\n",
    "api_config = config_utils.api_config\n",
    "config = config_utils.config"
   ]
  },
  {
   "cell_type": "code",
   "execution_count": 3,
   "metadata": {},
   "outputs": [
    {
     "data": {
      "text/plain": [
       "<okx_quant.future.future.Future at 0x22287097ee0>"
      ]
     },
     "execution_count": 3,
     "metadata": {},
     "output_type": "execute_result"
    }
   ],
   "source": [
    "future = Future(api_config, config)\n",
    "future"
   ]
  },
  {
   "cell_type": "code",
   "execution_count": 3,
   "metadata": {},
   "outputs": [
    {
     "data": {
      "text/plain": [
       "{'code': '0',\n",
       " 'data': [{'clOrdId': '',\n",
       "   'ordId': '2072533483005153280',\n",
       "   'sCode': '0',\n",
       "   'sMsg': 'Order placed',\n",
       "   'tag': '',\n",
       "   'ts': '1734268711019'}],\n",
       " 'inTime': '1734268711018856',\n",
       " 'msg': '',\n",
       " 'outTime': '1734268711020525'}"
      ]
     },
     "execution_count": 3,
     "metadata": {},
     "output_type": "execute_result"
    }
   ],
   "source": [
    "future.open_position(\n",
    "  future_id='BTC-USDT-SWAP',\n",
    "  side=TradeSide.BUY,\n",
    "  order_type=OrderType.MARKET,\n",
    "  margin_type=MarginType.ISOLATED,\n",
    "  order_vol=0.1,\n",
    "  lever=3.0\n",
    ")"
   ]
  },
  {
   "cell_type": "code",
   "execution_count": null,
   "metadata": {},
   "outputs": [
    {
     "name": "stdout",
     "output_type": "stream",
     "text": [
      "{'code': '0', 'data': [{'amt': '3', 'ccy': '', 'instId': 'BTC-USDT-SWAP', 'leverage': '3', 'posSide': 'net', 'type': 'reduce'}], 'msg': ''}\n"
     ]
    },
    {
     "data": {
      "text/plain": [
       "{'code': '0',\n",
       " 'data': [{'amt': '3',\n",
       "   'ccy': '',\n",
       "   'instId': 'BTC-USDT-SWAP',\n",
       "   'leverage': '3',\n",
       "   'posSide': 'net',\n",
       "   'type': 'reduce'}],\n",
       " 'msg': ''}"
      ]
     },
     "execution_count": 10,
     "metadata": {},
     "output_type": "execute_result"
    }
   ],
   "source": [
    "future.adjust_margin(\n",
    "  future_id='BTC-USDT-SWAP',\n",
    "  adjust_type=MarginAdjustType.ADD,\n",
    "  amount=10\n",
    ")"
   ]
  },
  {
   "cell_type": "code",
   "execution_count": 3,
   "metadata": {},
   "outputs": [
    {
     "data": {
      "text/plain": [
       "{'code': '0',\n",
       " 'data': [{'clOrdId': '',\n",
       "   'instId': 'BTC-USDT-SWAP',\n",
       "   'posSide': 'net',\n",
       "   'tag': ''}],\n",
       " 'msg': ''}"
      ]
     },
     "execution_count": 3,
     "metadata": {},
     "output_type": "execute_result"
    }
   ],
   "source": [
    "future.close_position(\n",
    "  future_id='BTC-USDT-SWAP'\n",
    ")"
   ]
  }
 ],
 "metadata": {
  "kernelspec": {
   "display_name": ".venv",
   "language": "python",
   "name": "python3"
  },
  "language_info": {
   "codemirror_mode": {
    "name": "ipython",
    "version": 3
   },
   "file_extension": ".py",
   "mimetype": "text/x-python",
   "name": "python",
   "nbconvert_exporter": "python",
   "pygments_lexer": "ipython3",
   "version": "3.9.9"
  }
 },
 "nbformat": 4,
 "nbformat_minor": 2
}
