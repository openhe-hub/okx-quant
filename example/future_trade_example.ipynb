{
 "cells": [
  {
   "cell_type": "code",
   "execution_count": 12,
   "metadata": {},
   "outputs": [],
   "source": [
    "from okx_quant.utils.config_utils import ConfigUtils\n",
    "from okx_quant.future.future import *\n",
    "from okx_quant.account.account import *\n",
    "\n",
    "config_path = '../config/config.toml'\n",
    "config_utils = ConfigUtils(config_path)\n",
    "api_config = config_utils.api_config\n",
    "config = config_utils.config"
   ]
  },
  {
   "cell_type": "code",
   "execution_count": 13,
   "metadata": {},
   "outputs": [
    {
     "data": {
      "text/plain": [
       "<okx_quant.future.future.Future at 0x233f5c23f70>"
      ]
     },
     "execution_count": 13,
     "metadata": {},
     "output_type": "execute_result"
    }
   ],
   "source": [
    "future = Future(api_config, config)\n",
    "future"
   ]
  },
  {
   "cell_type": "code",
   "execution_count": 14,
   "metadata": {},
   "outputs": [
    {
     "data": {
      "text/plain": [
       "{'code': '0',\n",
       " 'data': [{'ccy': '',\n",
       "   'instId': 'BTC-USDT-SWAP',\n",
       "   'maxBuy': '0.7',\n",
       "   'maxSell': '0.1'}],\n",
       " 'msg': ''}"
      ]
     },
     "execution_count": 14,
     "metadata": {},
     "output_type": "execute_result"
    }
   ],
   "source": [
    "resp = future.get_max_trade_size('BTC-USDT-SWAP', lever=5.0)\n",
    "resp"
   ]
  },
  {
   "cell_type": "code",
   "execution_count": 15,
   "metadata": {},
   "outputs": [
    {
     "data": {
      "text/plain": [
       "{'code': '0',\n",
       " 'data': [{'availBuy': '22.107716389676802',\n",
       "   'availSell': '22.107716389676802',\n",
       "   'instId': 'BTC-USDT-SWAP'}],\n",
       " 'msg': ''}"
      ]
     },
     "execution_count": 15,
     "metadata": {},
     "output_type": "execute_result"
    }
   ],
   "source": [
    "resp = future.get_max_margin('BTC-USDT-SWAP')\n",
    "resp"
   ]
  },
  {
   "cell_type": "code",
   "execution_count": 16,
   "metadata": {},
   "outputs": [
    {
     "data": {
      "text/plain": [
       "{'code': '0',\n",
       " 'data': [{'clOrdId': '',\n",
       "   'ordId': '2091848201689636864',\n",
       "   'sCode': '0',\n",
       "   'sMsg': 'Order placed',\n",
       "   'tag': '',\n",
       "   'ts': '1734844334492'}],\n",
       " 'inTime': '1734844334492014',\n",
       " 'msg': '',\n",
       " 'outTime': '1734844334493265'}"
      ]
     },
     "execution_count": 16,
     "metadata": {},
     "output_type": "execute_result"
    }
   ],
   "source": [
    "future.open_position(\n",
    "  future_id='BTC-USDT-SWAP',\n",
    "  side=TradeSide.BUY,\n",
    "  order_type=OrderType.MARKET,\n",
    "  margin_type=MarginType.ISOLATED,\n",
    "  order_vol=0.1,\n",
    "  lever=3.0\n",
    ")"
   ]
  },
  {
   "cell_type": "code",
   "execution_count": 17,
   "metadata": {},
   "outputs": [
    {
     "data": {
      "text/plain": [
       "True"
      ]
     },
     "execution_count": 17,
     "metadata": {},
     "output_type": "execute_result"
    }
   ],
   "source": [
    "future.has_position('BTC-USDT-SWAP')"
   ]
  },
  {
   "cell_type": "code",
   "execution_count": 18,
   "metadata": {},
   "outputs": [
    {
     "data": {
      "text/plain": [
       "{'code': '0',\n",
       " 'data': [{'adl': '1',\n",
       "   'availPos': '',\n",
       "   'avgPx': '97302.2',\n",
       "   'baseBal': '',\n",
       "   'baseBorrowed': '',\n",
       "   'baseInterest': '',\n",
       "   'bePx': '97444.71006049121',\n",
       "   'bizRefId': '',\n",
       "   'bizRefType': '',\n",
       "   'cTime': '1734796866296',\n",
       "   'ccy': 'USDT',\n",
       "   'clSpotInUseAmt': '',\n",
       "   'closeOrderAlgo': [],\n",
       "   'deltaBS': '',\n",
       "   'deltaPA': '',\n",
       "   'fee': '-0.33991575',\n",
       "   'fundingFee': '0.0121778276073177',\n",
       "   'gammaBS': '',\n",
       "   'gammaPA': '',\n",
       "   'idxPx': '96020.3000000000000000',\n",
       "   'imr': '',\n",
       "   'instId': 'BTC-USDT-SWAP',\n",
       "   'instType': 'SWAP',\n",
       "   'interest': '',\n",
       "   'last': '96018.3',\n",
       "   'lever': '3',\n",
       "   'liab': '',\n",
       "   'liabCcy': '',\n",
       "   'liqPenalty': '0',\n",
       "   'liqPx': '145301.37300939226',\n",
       "   'margin': '243.2656481896727648',\n",
       "   'markPx': '96021.9',\n",
       "   'maxSpotInUseAmt': '',\n",
       "   'mgnMode': 'isolated',\n",
       "   'mgnRatio': '115.56028049141696',\n",
       "   'mmr': '1.920438',\n",
       "   'notionalUsd': '479.85024087',\n",
       "   'optVal': '',\n",
       "   'pendingCloseOrdLiabVal': '',\n",
       "   'pnl': '1.2839',\n",
       "   'pos': '-0.5',\n",
       "   'posCcy': '',\n",
       "   'posId': '1958419877169463296',\n",
       "   'posSide': 'net',\n",
       "   'quoteBal': '',\n",
       "   'quoteBorrowed': '',\n",
       "   'quoteInterest': '',\n",
       "   'realizedPnl': '0.9561620776073178',\n",
       "   'spotInUseAmt': '',\n",
       "   'spotInUseCcy': '',\n",
       "   'thetaBS': '',\n",
       "   'thetaPA': '',\n",
       "   'tradeId': '1201554823',\n",
       "   'uTime': '1734844334493',\n",
       "   'upl': '6.401500000000015',\n",
       "   'uplLastPx': '6.419499999999971',\n",
       "   'uplRatio': '0.0394739276193139',\n",
       "   'uplRatioLastPx': '0.0395849220264289',\n",
       "   'usdPx': '0.99946',\n",
       "   'vegaBS': '',\n",
       "   'vegaPA': ''}],\n",
       " 'msg': ''}"
      ]
     },
     "execution_count": 18,
     "metadata": {},
     "output_type": "execute_result"
    }
   ],
   "source": [
    "future.query_position('BTC-USDT-SWAP')"
   ]
  },
  {
   "cell_type": "code",
   "execution_count": 19,
   "metadata": {},
   "outputs": [
    {
     "data": {
      "text/plain": [
       "{'code': '0',\n",
       " 'data': [{'amt': '10',\n",
       "   'ccy': '',\n",
       "   'instId': 'BTC-USDT-SWAP',\n",
       "   'leverage': '3',\n",
       "   'posSide': 'net',\n",
       "   'type': 'add'}],\n",
       " 'msg': ''}"
      ]
     },
     "execution_count": 19,
     "metadata": {},
     "output_type": "execute_result"
    }
   ],
   "source": [
    "future.adjust_margin(\n",
    "  future_id='BTC-USDT-SWAP',\n",
    "  adjust_type=MarginAdjustType.ADD,\n",
    "  amount=10\n",
    ")"
   ]
  },
  {
   "cell_type": "code",
   "execution_count": 20,
   "metadata": {},
   "outputs": [
    {
     "data": {
      "text/plain": [
       "{'code': '0',\n",
       " 'data': [{'clOrdId': '',\n",
       "   'instId': 'BTC-USDT-SWAP',\n",
       "   'posSide': 'net',\n",
       "   'tag': ''}],\n",
       " 'msg': ''}"
      ]
     },
     "execution_count": 20,
     "metadata": {},
     "output_type": "execute_result"
    }
   ],
   "source": [
    "future.close_position(\n",
    "  future_id='BTC-USDT-SWAP'\n",
    ")"
   ]
  }
 ],
 "metadata": {
  "kernelspec": {
   "display_name": ".venv",
   "language": "python",
   "name": "python3"
  },
  "language_info": {
   "codemirror_mode": {
    "name": "ipython",
    "version": 3
   },
   "file_extension": ".py",
   "mimetype": "text/x-python",
   "name": "python",
   "nbconvert_exporter": "python",
   "pygments_lexer": "ipython3",
   "version": "3.9.9"
  }
 },
 "nbformat": 4,
 "nbformat_minor": 2
}
