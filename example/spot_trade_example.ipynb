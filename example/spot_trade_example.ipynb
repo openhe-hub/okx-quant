{
 "cells": [
  {
   "cell_type": "code",
   "execution_count": 1,
   "metadata": {},
   "outputs": [],
   "source": [
    "from okx_quant.utils.config_utils import ConfigUtils\n",
    "from okx_quant.spot.spot import *\n",
    "from okx_quant.account.account import *\n",
    "\n",
    "config_path = '../config/config.toml'\n",
    "config_utils = ConfigUtils(config_path)\n",
    "api_config = config_utils.api_config\n",
    "config = config_utils.config"
   ]
  },
  {
   "cell_type": "code",
   "execution_count": 3,
   "metadata": {},
   "outputs": [
    {
     "data": {
      "text/plain": [
       "<okx_quant.spot.spot.Spot at 0x20638eb7850>"
      ]
     },
     "execution_count": 3,
     "metadata": {},
     "output_type": "execute_result"
    }
   ],
   "source": [
    "spot = Spot(api_config, config)\n",
    "spot"
   ]
  },
  {
   "cell_type": "code",
   "execution_count": 5,
   "metadata": {},
   "outputs": [
    {
     "data": {
      "text/plain": [
       "{'code': '0',\n",
       " 'data': [{'clOrdId': '',\n",
       "   'ordId': '2129314283407024128',\n",
       "   'sCode': '0',\n",
       "   'sMsg': 'Order placed',\n",
       "   'tag': '',\n",
       "   'ts': '1735960910738'}],\n",
       " 'inTime': '1735960910737289',\n",
       " 'msg': '',\n",
       " 'outTime': '1735960910739467'}"
      ]
     },
     "execution_count": 5,
     "metadata": {},
     "output_type": "execute_result"
    }
   ],
   "source": [
    "spot.trade(\n",
    "  spot_id='BTC-USDT',\n",
    "  side=TradeSide.BUY,\n",
    "  order_type=OrderType.MARKET,\n",
    "  order_vol=10,\n",
    ")"
   ]
  },
  {
   "cell_type": "code",
   "execution_count": 10,
   "metadata": {},
   "outputs": [
    {
     "data": {
      "text/plain": [
       "0.0001091154"
      ]
     },
     "execution_count": 10,
     "metadata": {},
     "output_type": "execute_result"
    }
   ],
   "source": [
    "resp = Account(api_config, config).get_balance(currency='BTC')\n",
    "total_vol = float(resp['data'][0]['details'][0]['availBal'])\n",
    "total_vol"
   ]
  },
  {
   "cell_type": "code",
   "execution_count": 11,
   "metadata": {},
   "outputs": [
    {
     "data": {
      "text/plain": [
       "{'code': '0',\n",
       " 'data': [{'clOrdId': '',\n",
       "   'ordId': '2129320500774838272',\n",
       "   'sCode': '0',\n",
       "   'sMsg': 'Order placed',\n",
       "   'tag': '',\n",
       "   'ts': '1735961096030'}],\n",
       " 'inTime': '1735961096030208',\n",
       " 'msg': '',\n",
       " 'outTime': '1735961096032106'}"
      ]
     },
     "execution_count": 11,
     "metadata": {},
     "output_type": "execute_result"
    }
   ],
   "source": [
    "spot.trade(\n",
    "  spot_id='BTC-USDT',\n",
    "  side=TradeSide.SELL,\n",
    "  order_type=OrderType.MARKET,\n",
    "  order_vol=total_vol,\n",
    ")"
   ]
  }
 ],
 "metadata": {
  "kernelspec": {
   "display_name": ".venv",
   "language": "python",
   "name": "python3"
  },
  "language_info": {
   "codemirror_mode": {
    "name": "ipython",
    "version": 3
   },
   "file_extension": ".py",
   "mimetype": "text/x-python",
   "name": "python",
   "nbconvert_exporter": "python",
   "pygments_lexer": "ipython3",
   "version": "3.9.9"
  }
 },
 "nbformat": 4,
 "nbformat_minor": 2
}
