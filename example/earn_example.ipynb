{
 "cells": [
  {
   "cell_type": "code",
   "execution_count": 4,
   "metadata": {},
   "outputs": [],
   "source": [
    "from okx_quant.utils.config_utils import ConfigUtils\n",
    "from okx_quant.financial_product.earn import Earn, EarnOperateType\n",
    "\n",
    "config_path = '../config/config.toml'\n",
    "config_utils = ConfigUtils(config_path)\n",
    "api_config = config_utils.api_config\n",
    "config = config_utils.config"
   ]
  },
  {
   "cell_type": "code",
   "execution_count": 2,
   "metadata": {},
   "outputs": [
    {
     "data": {
      "text/plain": [
       "<okx_quant.financial_product.earn.Earn at 0x21d94dc7a00>"
      ]
     },
     "execution_count": 2,
     "metadata": {},
     "output_type": "execute_result"
    }
   ],
   "source": [
    "earn = Earn(api_config, config)\n",
    "earn"
   ]
  },
  {
   "cell_type": "code",
   "execution_count": 9,
   "metadata": {},
   "outputs": [
    {
     "data": {
      "text/plain": [
       "{'code': '0',\n",
       " 'data': [{'amt': '1',\n",
       "   'ccy': 'USDT',\n",
       "   'earnings': '0',\n",
       "   'loanAmt': '0',\n",
       "   'pendingAmt': '1',\n",
       "   'rate': '0.01',\n",
       "   'redemptAmt': ''}],\n",
       " 'msg': ''}"
      ]
     },
     "execution_count": 9,
     "metadata": {},
     "output_type": "execute_result"
    }
   ],
   "source": [
    "earn.get_balance(currency='USDT')"
   ]
  },
  {
   "cell_type": "code",
   "execution_count": 8,
   "metadata": {},
   "outputs": [
    {
     "data": {
      "text/plain": [
       "{'code': '0',\n",
       " 'data': [{'amt': '1', 'ccy': 'USDT', 'rate': '', 'side': 'redempt'}],\n",
       " 'msg': ''}"
      ]
     },
     "execution_count": 8,
     "metadata": {},
     "output_type": "execute_result"
    }
   ],
   "source": [
    "earn.trade(1.0, EarnOperateType.REDEMPT)"
   ]
  }
 ],
 "metadata": {
  "kernelspec": {
   "display_name": ".venv",
   "language": "python",
   "name": "python3"
  },
  "language_info": {
   "codemirror_mode": {
    "name": "ipython",
    "version": 3
   },
   "file_extension": ".py",
   "mimetype": "text/x-python",
   "name": "python",
   "nbconvert_exporter": "python",
   "pygments_lexer": "ipython3",
   "version": "3.9.9"
  }
 },
 "nbformat": 4,
 "nbformat_minor": 2
}
