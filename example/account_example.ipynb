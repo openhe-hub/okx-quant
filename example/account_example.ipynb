{
 "cells": [
  {
   "cell_type": "code",
   "execution_count": 1,
   "metadata": {},
   "outputs": [],
   "source": [
    "from okx_quant.utils.config_utils import ConfigUtils\n",
    "from okx_quant.future.future import *\n",
    "from okx_quant.account.account import *\n",
    "\n",
    "config_path = '../config/config.toml'\n",
    "config_utils = ConfigUtils(config_path)\n",
    "api_config = config_utils.api_config\n",
    "config = config_utils.config"
   ]
  },
  {
   "cell_type": "code",
   "execution_count": 2,
   "metadata": {},
   "outputs": [
    {
     "data": {
      "text/plain": [
       "<okx_quant.account.account.Account at 0x1bd5d869eb0>"
      ]
     },
     "execution_count": 2,
     "metadata": {},
     "output_type": "execute_result"
    }
   ],
   "source": [
    "account = Account(api_config, config)\n",
    "account"
   ]
  },
  {
   "cell_type": "code",
   "execution_count": 3,
   "metadata": {},
   "outputs": [
    {
     "data": {
      "text/plain": [
       "{'code': '0',\n",
       " 'data': [{'adjEq': '',\n",
       "   'borrowFroz': '',\n",
       "   'details': [{'accAvgPx': '',\n",
       "     'availBal': '31.99648361728412',\n",
       "     'availEq': '31.99648361728412',\n",
       "     'borrowFroz': '',\n",
       "     'cashBal': '31.99648361728412',\n",
       "     'ccy': 'USDT',\n",
       "     'clSpotInUseAmt': '',\n",
       "     'crossLiab': '',\n",
       "     'disEq': '318.34990777845843',\n",
       "     'eq': '318.5282836172841',\n",
       "     'eqUsd': '318.34990777845843',\n",
       "     'fixedBal': '0',\n",
       "     'frozenBal': '286.5318',\n",
       "     'imr': '0',\n",
       "     'interest': '',\n",
       "     'isoEq': '286.5318',\n",
       "     'isoLiab': '',\n",
       "     'isoUpl': '-1.6224000000000522',\n",
       "     'liab': '',\n",
       "     'maxLoan': '',\n",
       "     'maxSpotInUse': '',\n",
       "     'mgnRatio': '',\n",
       "     'mmr': '0',\n",
       "     'notionalLever': '0',\n",
       "     'openAvgPx': '',\n",
       "     'ordFrozen': '0',\n",
       "     'rewardBal': '0',\n",
       "     'smtSyncEq': '0',\n",
       "     'spotBal': '',\n",
       "     'spotCopyTradingEq': '0',\n",
       "     'spotInUseAmt': '',\n",
       "     'spotIsoBal': '0',\n",
       "     'spotUpl': '',\n",
       "     'spotUplRatio': '',\n",
       "     'stgyEq': '0',\n",
       "     'totalPnl': '',\n",
       "     'totalPnlRatio': '',\n",
       "     'twap': '0',\n",
       "     'uTime': '1734844967236',\n",
       "     'upl': '-1.6224000000000522',\n",
       "     'uplLiab': ''}],\n",
       "   'imr': '',\n",
       "   'isoEq': '286.371342192',\n",
       "   'mgnRatio': '',\n",
       "   'mmr': '',\n",
       "   'notionalUsd': '',\n",
       "   'ordFroz': '',\n",
       "   'totalEq': '318.52070383695894',\n",
       "   'uTime': '1734845378829',\n",
       "   'upl': ''}],\n",
       " 'msg': ''}"
      ]
     },
     "execution_count": 3,
     "metadata": {},
     "output_type": "execute_result"
    }
   ],
   "source": [
    "account.get_balance(currency='USDT')"
   ]
  },
  {
   "cell_type": "code",
   "execution_count": 11,
   "metadata": {},
   "outputs": [
    {
     "data": {
      "text/plain": [
       "{'code': '0',\n",
       " 'data': [{'details': {'classic': '0',\n",
       "    'earn': '430.33',\n",
       "    'funding': '2',\n",
       "    'trading': '317.97'},\n",
       "   'totalBal': '750.30000000',\n",
       "   'ts': '1734845425435'}],\n",
       " 'msg': ''}"
      ]
     },
     "execution_count": 11,
     "metadata": {},
     "output_type": "execute_result"
    }
   ],
   "source": [
    "account.get_assets(currency='USDT')"
   ]
  },
  {
   "cell_type": "code",
   "execution_count": 8,
   "metadata": {},
   "outputs": [
    {
     "data": {
      "text/plain": [
       "{'code': '0',\n",
       " 'data': [{'amt': '10',\n",
       "   'ccy': 'USDT',\n",
       "   'clientId': '',\n",
       "   'from': '18',\n",
       "   'to': '6',\n",
       "   'transId': '1051765478'}],\n",
       " 'msg': ''}"
      ]
     },
     "execution_count": 8,
     "metadata": {},
     "output_type": "execute_result"
    }
   ],
   "source": [
    "from okx_quant.account.account import AccountType\n",
    "\n",
    "result = account.transfer(\n",
    "    amount=10,\n",
    "    from_account=AccountType.TRADING_ACC,\n",
    "    to_account=AccountType.FUNDING_ACC\n",
    ")\n",
    "result"
   ]
  },
  {
   "cell_type": "code",
   "execution_count": 10,
   "metadata": {},
   "outputs": [
    {
     "data": {
      "text/plain": [
       "{'code': '0',\n",
       " 'data': [{'amt': '10',\n",
       "   'ccy': 'USDT',\n",
       "   'clientId': '',\n",
       "   'from': '6',\n",
       "   'to': '18',\n",
       "   'transId': '1051765701'}],\n",
       " 'msg': ''}"
      ]
     },
     "execution_count": 10,
     "metadata": {},
     "output_type": "execute_result"
    }
   ],
   "source": [
    "result = account.transfer(\n",
    "    amount=10,\n",
    "    from_account=AccountType.FUNDING_ACC,\n",
    "    to_account=AccountType.TRADING_ACC\n",
    ")\n",
    "result"
   ]
  }
 ],
 "metadata": {
  "kernelspec": {
   "display_name": ".venv",
   "language": "python",
   "name": "python3"
  },
  "language_info": {
   "codemirror_mode": {
    "name": "ipython",
    "version": 3
   },
   "file_extension": ".py",
   "mimetype": "text/x-python",
   "name": "python",
   "nbconvert_exporter": "python",
   "pygments_lexer": "ipython3",
   "version": "3.9.9"
  }
 },
 "nbformat": 4,
 "nbformat_minor": 2
}
