{
 "cells": [
  {
   "cell_type": "code",
   "execution_count": 1,
   "id": "initial_id",
   "metadata": {
    "ExecuteTime": {
     "end_time": "2024-03-14T05:10:13.263966300Z",
     "start_time": "2024-03-14T05:10:13.156147400Z"
    },
    "collapsed": true
   },
   "outputs": [
    {
     "ename": "ModuleNotFoundError",
     "evalue": "No module named 'okx_quant'",
     "output_type": "error",
     "traceback": [
      "\u001b[1;31m---------------------------------------------------------------------------\u001b[0m",
      "\u001b[1;31mModuleNotFoundError\u001b[0m                       Traceback (most recent call last)",
      "Cell \u001b[1;32mIn[1], line 1\u001b[0m\n\u001b[1;32m----> 1\u001b[0m \u001b[38;5;28;01mfrom\u001b[39;00m \u001b[38;5;21;01mokx_quant\u001b[39;00m\u001b[38;5;21;01m.\u001b[39;00m\u001b[38;5;21;01mutils\u001b[39;00m\u001b[38;5;21;01m.\u001b[39;00m\u001b[38;5;21;01mconfig_utils\u001b[39;00m \u001b[38;5;28;01mimport\u001b[39;00m ConfigUtils\n\u001b[0;32m      2\u001b[0m \u001b[38;5;28;01mfrom\u001b[39;00m \u001b[38;5;21;01mokx_quant\u001b[39;00m\u001b[38;5;21;01m.\u001b[39;00m\u001b[38;5;21;01mcore\u001b[39;00m\u001b[38;5;21;01m.\u001b[39;00m\u001b[38;5;21;01mcore\u001b[39;00m \u001b[38;5;28;01mimport\u001b[39;00m \u001b[38;5;241m*\u001b[39m\n\u001b[0;32m      4\u001b[0m config_path \u001b[38;5;241m=\u001b[39m \u001b[38;5;124m'\u001b[39m\u001b[38;5;124m../config/api.toml\u001b[39m\u001b[38;5;124m'\u001b[39m\n",
      "\u001b[1;31mModuleNotFoundError\u001b[0m: No module named 'okx_quant'"
     ]
    }
   ],
   "source": [
    "from okx_quant.utils.config_utils import ConfigUtils\n",
    "from okx_quant.core.core import *\n",
    "\n",
    "config_path = '../config/api.toml'\n",
    "config_utils = ConfigUtils(config_path)\n",
    "api_config = config_utils.api_config\n",
    "config = config_utils.config"
   ]
  },
  {
   "cell_type": "code",
   "execution_count": 4,
   "id": "654e66f643b8e00f",
   "metadata": {
    "ExecuteTime": {
     "end_time": "2024-03-14T05:10:51.255459400Z",
     "start_time": "2024-03-14T05:10:48.787615600Z"
    },
    "collapsed": false
   },
   "outputs": [
    {
     "name": "stdout",
     "output_type": "stream",
     "text": [
      "SOL-USDT\n",
      "================================================\n",
      "BTC-USDT\n",
      "================================================\n",
      "ETH-USDT\n",
      "================================================\n",
      "MATIC-USDT-SWAP\n",
      "================================================\n",
      "BNB-USDT-SWAP\n",
      "================================================\n",
      "SATS-USDT-SWAP\n",
      "================================================\n"
     ]
    }
   ],
   "source": [
    "from okx_quant.bots.grid_bots import GridBot\n",
    "\n",
    "grid_bot = GridBot(api_config, config)\n",
    "for bot_info in grid_bot.grid_bots.values():\n",
    "    print(bot_info.instance_name)\n",
    "    print('================================================')"
   ]
  },
  {
   "cell_type": "code",
   "execution_count": null,
   "id": "e3387d9cfae8e794",
   "metadata": {
    "collapsed": false
   },
   "outputs": [],
   "source": []
  }
 ],
 "metadata": {
  "kernelspec": {
   "display_name": ".venv",
   "language": "python",
   "name": "python3"
  },
  "language_info": {
   "codemirror_mode": {
    "name": "ipython",
    "version": 3
   },
   "file_extension": ".py",
   "mimetype": "text/x-python",
   "name": "python",
   "nbconvert_exporter": "python",
   "pygments_lexer": "ipython3",
   "version": "3.9.9"
  }
 },
 "nbformat": 4,
 "nbformat_minor": 5
}
