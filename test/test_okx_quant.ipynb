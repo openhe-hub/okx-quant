{
 "cells": [
  {
   "cell_type": "code",
   "execution_count": 1,
   "id": "initial_id",
   "metadata": {
    "collapsed": true,
    "ExecuteTime": {
     "end_time": "2024-03-14T05:10:13.263966300Z",
     "start_time": "2024-03-14T05:10:13.156147400Z"
    }
   },
   "outputs": [],
   "source": [
    "from okx_quant.utils.config_utils import ConfigUtils\n",
    "from okx_quant.core.core import *\n",
    "\n",
    "config_path = '../config/api.toml'\n",
    "config_utils = ConfigUtils(config_path)\n",
    "api_config = config_utils.api_config\n",
    "config = config_utils.config"
   ]
  },
  {
   "cell_type": "code",
   "execution_count": 4,
   "outputs": [
    {
     "name": "stdout",
     "output_type": "stream",
     "text": [
      "SOL-USDT\n",
      "================================================\n",
      "BTC-USDT\n",
      "================================================\n",
      "ETH-USDT\n",
      "================================================\n",
      "MATIC-USDT-SWAP\n",
      "================================================\n",
      "BNB-USDT-SWAP\n",
      "================================================\n",
      "SATS-USDT-SWAP\n",
      "================================================\n"
     ]
    }
   ],
   "source": [
    "from okx_quant.bots.grid_bots import GridBot\n",
    "\n",
    "grid_bot = GridBot(api_config, config)\n",
    "for bot_info in grid_bot.grid_bots.values():\n",
    "    print(bot_info.instance_name)\n",
    "    print('================================================')"
   ],
   "metadata": {
    "collapsed": false,
    "ExecuteTime": {
     "end_time": "2024-03-14T05:10:51.255459400Z",
     "start_time": "2024-03-14T05:10:48.787615600Z"
    }
   },
   "id": "654e66f643b8e00f"
  },
  {
   "cell_type": "code",
   "execution_count": null,
   "outputs": [],
   "source": [],
   "metadata": {
    "collapsed": false
   },
   "id": "e3387d9cfae8e794"
  }
 ],
 "metadata": {
  "kernelspec": {
   "display_name": "Python 3",
   "language": "python",
   "name": "python3"
  },
  "language_info": {
   "codemirror_mode": {
    "name": "ipython",
    "version": 2
   },
   "file_extension": ".py",
   "mimetype": "text/x-python",
   "name": "python",
   "nbconvert_exporter": "python",
   "pygments_lexer": "ipython2",
   "version": "2.7.6"
  }
 },
 "nbformat": 4,
 "nbformat_minor": 5
}
