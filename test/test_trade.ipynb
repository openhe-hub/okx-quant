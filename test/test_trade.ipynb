{
 "cells": [
  {
   "cell_type": "code",
   "execution_count": 1,
   "id": "initial_id",
   "metadata": {
    "ExecuteTime": {
     "end_time": "2024-08-21T17:07:24.494615400Z",
     "start_time": "2024-08-21T17:07:24.475363500Z"
    },
    "collapsed": true
   },
   "outputs": [],
   "source": [
    "import base64\n",
    "import hmac\n",
    "import json\n",
    "import time\n",
    "import requests\n",
    "import toml\n",
    "\n",
    "from urllib.parse import urljoin\n",
    "\n",
    "# params\n",
    "base_url = 'https://www.dojqutmbiuuo.com'\n",
    "api_config = toml.load('../config/demo_api.toml')\n",
    "api_key = api_config['api_key']\n",
    "secret_key = api_config['secret_key']\n",
    "passphrase = api_config['passphrase']"
   ]
  },
  {
   "cell_type": "code",
   "execution_count": 2,
   "id": "abe08a1ed2955b74",
   "metadata": {
    "ExecuteTime": {
     "end_time": "2024-08-21T05:49:16.843015900Z",
     "start_time": "2024-08-21T05:49:16.827537200Z"
    },
    "collapsed": false
   },
   "outputs": [],
   "source": [
    "def request(method, uri, params=None, body=None, headers=None, auth=False, demo=False):\n",
    "    \"\"\"Initiate network request\n",
    "   @param method: request method, GET / POST / DELETE / PUT\n",
    "   @param uri: request uri\n",
    "   @param params: dict, request query params\n",
    "   @param body: dict, request body\n",
    "   @param headers: request http header\n",
    "   @param auth: boolean, add permission verification or not\n",
    "   \"\"\"\n",
    "    if params:\n",
    "        query = \"&\".join(\n",
    "            [\"{}={}\".format(k, params[k]) for k in sorted(params.keys())]\n",
    "        )\n",
    "        uri += \"?\" + query\n",
    "    url = urljoin(base_url, uri)\n",
    "\n",
    "    if auth:\n",
    "        timestamp = (\n",
    "                str(time.time()).split(\".\")[0]\n",
    "                + \".\"\n",
    "                + str(time.time()).split(\".\")[1][:3]\n",
    "        )\n",
    "        if body:\n",
    "            body = json.dumps(body)\n",
    "        else:\n",
    "            body = \"\"\n",
    "        message = str(timestamp) + str.upper(method) + uri + str(body)\n",
    "        mac = hmac.new(\n",
    "            bytes(secret_key, encoding=\"utf8\"),\n",
    "            bytes(message, encoding=\"utf-8\"),\n",
    "            digestmod=\"sha256\",\n",
    "        )\n",
    "        d = mac.digest()\n",
    "        sign = base64.b64encode(d)\n",
    "\n",
    "        if not headers:\n",
    "            headers = {}\n",
    "        headers[\"Content-Type\"] = \"application/json\"\n",
    "        headers[\"OK-ACCESS-KEY\"] = api_key\n",
    "        headers[\"OK-ACCESS-SIGN\"] = sign\n",
    "        headers[\"OK-ACCESS-TIMESTAMP\"] = str(timestamp)\n",
    "        headers[\"OK-ACCESS-PASSPHRASE\"] = passphrase\n",
    "        if demo:\n",
    "            headers[\"x-simulated-trading\"] = \"1\"\n",
    "    result = requests.request(\n",
    "        method, url, data=body, headers=headers, timeout=10\n",
    "    ).json()\n",
    "    if result.get(\"code\") and result.get(\"code\") != \"0\":\n",
    "        return None, result\n",
    "    return result, None"
   ]
  },
  {
   "cell_type": "code",
   "execution_count": 3,
   "id": "24fb7027",
   "metadata": {},
   "outputs": [
    {
     "data": {
      "text/plain": [
       "({'code': '0',\n",
       "  'data': [{'adjEq': '',\n",
       "    'borrowFroz': '',\n",
       "    'details': [{'accAvgPx': '',\n",
       "      'availBal': '57065.91641669225',\n",
       "      'availEq': '57065.91641669225',\n",
       "      'borrowFroz': '',\n",
       "      'cashBal': '57065.91641669225',\n",
       "      'ccy': 'USDT',\n",
       "      'clSpotInUseAmt': '',\n",
       "      'crossLiab': '',\n",
       "      'disEq': '57044.231368453904',\n",
       "      'eq': '57065.91641669225',\n",
       "      'eqUsd': '57044.231368453904',\n",
       "      'fixedBal': '0',\n",
       "      'frozenBal': '0',\n",
       "      'imr': '0',\n",
       "      'interest': '',\n",
       "      'isoEq': '0',\n",
       "      'isoLiab': '',\n",
       "      'isoUpl': '0',\n",
       "      'liab': '',\n",
       "      'maxLoan': '',\n",
       "      'maxSpotInUse': '',\n",
       "      'mgnRatio': '',\n",
       "      'mmr': '0',\n",
       "      'notionalLever': '0',\n",
       "      'openAvgPx': '',\n",
       "      'ordFrozen': '0',\n",
       "      'rewardBal': '0',\n",
       "      'smtSyncEq': '0',\n",
       "      'spotBal': '',\n",
       "      'spotCopyTradingEq': '0',\n",
       "      'spotInUseAmt': '',\n",
       "      'spotIsoBal': '0',\n",
       "      'spotUpl': '',\n",
       "      'spotUplRatio': '',\n",
       "      'stgyEq': '0',\n",
       "      'totalPnl': '',\n",
       "      'totalPnlRatio': '',\n",
       "      'twap': '0',\n",
       "      'uTime': '1734244347649',\n",
       "      'upl': '0',\n",
       "      'uplLiab': ''}],\n",
       "    'imr': '',\n",
       "    'isoEq': '0',\n",
       "    'mgnRatio': '',\n",
       "    'mmr': '',\n",
       "    'notionalUsd': '',\n",
       "    'ordFroz': '',\n",
       "    'totalEq': '66287.88684525264',\n",
       "    'uTime': '1734265157408',\n",
       "    'upl': ''}],\n",
       "  'msg': ''},\n",
       " None)"
      ]
     },
     "execution_count": 3,
     "metadata": {},
     "output_type": "execute_result"
    }
   ],
   "source": [
    "def get_asset(currency):\n",
    "    params = {\"ccy\": currency}\n",
    "    result = request(\n",
    "        \"GET\", \"/api/v5/account/balance\", params=params, auth=True, demo=True\n",
    "    )\n",
    "    return result\n",
    "\n",
    "\n",
    "get_asset('USDT')"
   ]
  },
  {
   "cell_type": "code",
   "execution_count": 4,
   "id": "1d7770ff",
   "metadata": {},
   "outputs": [],
   "source": [
    "def trade_spot(spot_id, side, order_type, order_price, order_vol, demo=False):\n",
    "\tparams = {\n",
    "        \"instId\": spot_id,\n",
    "        \"tdMode\": 'cash',\n",
    "        \"side\": side,\n",
    "        \"ordType\": order_type,\n",
    "\t\t\"px\": f\"{order_price:.10f}\",\n",
    "        \"sz\": f\"{order_vol:.10f}\"\n",
    "\t}\n",
    "\n",
    "\tresp = request(\"POST\", \"/api/v5/trade/order\", body=params, auth=True, demo=demo)\n",
    "\treturn resp\n",
    "\n",
    "def open_position_future(future_id, side, order_type, order_price, order_vol,\n",
    "\t\t\t\t\t\t  margin_mode='isolated', demo=False, order_id=\"\"):\n",
    "\tparams = {\n",
    "        \"instId\": future_id,\n",
    "        \"tdMode\": margin_mode,\n",
    "        \"side\": side,\n",
    "        \"ordType\": order_type,\n",
    "\t\t\"px\": f\"{order_price:.10f}\",\n",
    "        \"sz\": f\"{order_vol:.10f}\",\n",
    "\t}\n",
    "\n",
    "\tif order_id != \"\":\n",
    "\t\tparams[\"clOrdId\"] = order_id\n",
    "\n",
    "\tresp = request(\"POST\", \"/api/v5/trade/order\", body=params, auth=True, demo=demo)\n",
    "\treturn resp\n",
    "\n",
    "def set_future_lever(future_id, lever, margin_mode, demo=False):\n",
    "\tparams = {\n",
    "\t\t\"instId\": future_id,\n",
    "\t\t\"lever\": str(lever),\n",
    "\t\t\"mgnMode\": margin_mode\n",
    "\t}\n",
    "\n",
    "\tresp = request(\"POST\", \"/api/v5/account/set-leverage\", body=params, auth=True, demo=demo)\n",
    "\treturn resp\n",
    "\n",
    "\t\n",
    "def close_position_future(future_id, margin_mode, demo=False, order_id=\"\"):\n",
    "\tparams = {\n",
    "        \"instId\": future_id,\n",
    "        \"mgnMode\": margin_mode,\n",
    "\t}\n",
    "\n",
    "\tif order_id != \"\":\n",
    "\t\tparams[\"clOrdId\"] = order_id\n",
    "\n",
    "\tresp = request(\"POST\", \"/api/v5/trade/close-position\", body=params, auth=True, demo=demo)\n",
    "\treturn resp\n",
    "\n",
    "def query_position(future_id, demo=False):\n",
    "\tparams = {\n",
    "\t\t\"instId\": future_id\n",
    "\t}\n",
    "\n",
    "\tresp = request(\"GET\", \"/api/v5/account/positions\", params=params, auth=True, demo=demo)\n",
    "\treturn resp"
   ]
  },
  {
   "cell_type": "code",
   "execution_count": 5,
   "id": "af235708",
   "metadata": {},
   "outputs": [
    {
     "data": {
      "text/plain": [
       "({'code': '0',\n",
       "  'data': [{'instId': 'BTC-USDT-SWAP',\n",
       "    'lever': '3',\n",
       "    'mgnMode': 'isolated',\n",
       "    'posSide': ''}],\n",
       "  'msg': ''},\n",
       " None)"
      ]
     },
     "execution_count": 5,
     "metadata": {},
     "output_type": "execute_result"
    }
   ],
   "source": [
    "resp = set_future_lever(\"BTC-USDT-SWAP\", 3, \"isolated\", demo=True)\n",
    "resp"
   ]
  },
  {
   "cell_type": "code",
   "execution_count": 11,
   "id": "2efe0899",
   "metadata": {},
   "outputs": [
    {
     "name": "stdout",
     "output_type": "stream",
     "text": [
      "time cost = 0.1952 sec\n"
     ]
    }
   ],
   "source": [
    "import time\n",
    "start_time = time.time()\n",
    "resp = open_position_future(\"BTC-USDT-SWAP\", \"buy\", \"market\", 0.0, 0.1, demo=True, order_id='20241215btc')\n",
    "end_time = time.time()\n",
    "execution_time = end_time - start_time\n",
    "print(f\"time cost = {execution_time:.4f} sec\")"
   ]
  },
  {
   "cell_type": "code",
   "execution_count": 70,
   "id": "cbea205d",
   "metadata": {},
   "outputs": [
    {
     "data": {
      "text/plain": [
       "({'code': '0',\n",
       "  'data': [{'adl': '1',\n",
       "    'availPos': '',\n",
       "    'avgPx': '102031.1',\n",
       "    'baseBal': '',\n",
       "    'baseBorrowed': '',\n",
       "    'baseInterest': '',\n",
       "    'bePx': '102133.18214107053',\n",
       "    'bizRefId': '',\n",
       "    'bizRefType': '',\n",
       "    'cTime': '1734244097308',\n",
       "    'ccy': 'USDT',\n",
       "    'clSpotInUseAmt': '',\n",
       "    'closeOrderAlgo': [],\n",
       "    'deltaBS': '',\n",
       "    'deltaPA': '',\n",
       "    'fee': '-0.05101555',\n",
       "    'fundingFee': '0',\n",
       "    'gammaBS': '',\n",
       "    'gammaPA': '',\n",
       "    'idxPx': '102034.2000000000000000',\n",
       "    'imr': '',\n",
       "    'instId': 'BTC-USDT-SWAP',\n",
       "    'instType': 'SWAP',\n",
       "    'interest': '',\n",
       "    'last': '102028',\n",
       "    'lever': '10',\n",
       "    'liab': '',\n",
       "    'liabCcy': '',\n",
       "    'liqPenalty': '0',\n",
       "    'liqPx': '92243.18387744852',\n",
       "    'margin': '10.20311',\n",
       "    'markPx': '102035.9',\n",
       "    'maxSpotInUseAmt': '',\n",
       "    'mgnMode': 'isolated',\n",
       "    'mgnRatio': '22.231630675521476',\n",
       "    'mmr': '0.4081435999999999',\n",
       "    'notionalUsd': '102.00222815299999',\n",
       "    'optVal': '',\n",
       "    'pendingCloseOrdLiabVal': '',\n",
       "    'pnl': '0',\n",
       "    'pos': '0.1',\n",
       "    'posCcy': '',\n",
       "    'posId': '2071636711516934144',\n",
       "    'posSide': 'net',\n",
       "    'quoteBal': '',\n",
       "    'quoteBorrowed': '',\n",
       "    'quoteInterest': '',\n",
       "    'realizedPnl': '-0.05101555',\n",
       "    'spotInUseAmt': '',\n",
       "    'spotInUseCcy': '',\n",
       "    'thetaBS': '',\n",
       "    'thetaPA': '',\n",
       "    'tradeId': '1377007710',\n",
       "    'uTime': '1734244097308',\n",
       "    'upl': '0.0047999999999884',\n",
       "    'uplLastPx': '-0.0031000000000058',\n",
       "    'uplRatio': '0.0004704447957526',\n",
       "    'uplRatioLastPx': '-0.0003038289305912',\n",
       "    'usdPx': '0.99967',\n",
       "    'vegaBS': '',\n",
       "    'vegaPA': ''}],\n",
       "  'msg': ''},\n",
       " None)"
      ]
     },
     "execution_count": 70,
     "metadata": {},
     "output_type": "execute_result"
    }
   ],
   "source": [
    "resp = query_position(\"BTC-USDT-SWAP\", demo=True)\n",
    "resp"
   ]
  },
  {
   "cell_type": "code",
   "execution_count": 12,
   "id": "0cc7d26a",
   "metadata": {},
   "outputs": [
    {
     "data": {
      "text/plain": [
       "({'code': '0',\n",
       "  'data': [{'clOrdId': '',\n",
       "    'instId': 'BTC-USDT-SWAP',\n",
       "    'posSide': 'net',\n",
       "    'tag': ''}],\n",
       "  'msg': ''},\n",
       " None)"
      ]
     },
     "execution_count": 12,
     "metadata": {},
     "output_type": "execute_result"
    }
   ],
   "source": [
    "resp = close_position_future(\"BTC-USDT-SWAP\", \"isolated\", demo=True)\n",
    "resp"
   ]
  },
  {
   "cell_type": "code",
   "execution_count": 21,
   "id": "1738764a",
   "metadata": {},
   "outputs": [
    {
     "data": {
      "text/plain": [
       "(None, {'msg': 'Invalid Sign', 'code': '50113'})"
      ]
     },
     "execution_count": 21,
     "metadata": {},
     "output_type": "execute_result"
    }
   ],
   "source": [
    "resp = trade_spot(\"BTC-USDT\", \"buy\", \"market\", 0.0, 2)  # buy 2 usdt btc at market price\n",
    "resp"
   ]
  },
  {
   "cell_type": "code",
   "execution_count": 45,
   "id": "b8e45d50",
   "metadata": {},
   "outputs": [
    {
     "data": {
      "text/plain": [
       "({'code': '0',\n",
       "  'data': [{'clOrdId': '',\n",
       "    'ordId': '2069818259946872832',\n",
       "    'sCode': '0',\n",
       "    'sMsg': 'Order placed',\n",
       "    'tag': '',\n",
       "    'ts': '1734187791066'}],\n",
       "  'inTime': '1734187791065936',\n",
       "  'msg': '',\n",
       "  'outTime': '1734187791067773'},\n",
       " None)"
      ]
     },
     "execution_count": 45,
     "metadata": {},
     "output_type": "execute_result"
    }
   ],
   "source": [
    "resp = trade_spot(\"BTC-USDT\", \"sell\", \"market\", 0.0, 0.00001) # sell 0.00001 btc at market price \n",
    "resp"
   ]
  }
 ],
 "metadata": {
  "kernelspec": {
   "display_name": ".venv",
   "language": "python",
   "name": "python3"
  },
  "language_info": {
   "codemirror_mode": {
    "name": "ipython",
    "version": 3
   },
   "file_extension": ".py",
   "mimetype": "text/x-python",
   "name": "python",
   "nbconvert_exporter": "python",
   "pygments_lexer": "ipython3",
   "version": "3.9.9"
  }
 },
 "nbformat": 4,
 "nbformat_minor": 5
}
