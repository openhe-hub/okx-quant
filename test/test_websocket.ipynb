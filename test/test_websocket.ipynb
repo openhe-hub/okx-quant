{
 "cells": [
  {
   "cell_type": "code",
   "execution_count": 5,
   "id": "initial_id",
   "metadata": {
    "ExecuteTime": {
     "end_time": "2024-08-21T17:07:24.494615400Z",
     "start_time": "2024-08-21T17:07:24.475363500Z"
    },
    "collapsed": true
   },
   "outputs": [],
   "source": [
    "import base64\n",
    "import hmac\n",
    "import json\n",
    "import time\n",
    "import requests\n",
    "import toml\n",
    "\n",
    "from urllib.parse import urljoin\n",
    "\n",
    "# params\n",
    "base_url = 'https://www.dojqutmbiuuo.com'\n",
    "api_config = toml.load('../config/api.toml')\n",
    "api_key = \"9273c114-2d93-4167-95d1-c78093bd8065\"\n",
    "secret_key = \"688CFC37EFA8CDE1A00360918BCD5195\"\n",
    "passphrase = \"A5f6e778dx#\""
   ]
  },
  {
   "cell_type": "code",
   "execution_count": 6,
   "id": "abe08a1ed2955b74",
   "metadata": {
    "ExecuteTime": {
     "end_time": "2024-08-21T05:49:16.843015900Z",
     "start_time": "2024-08-21T05:49:16.827537200Z"
    },
    "collapsed": false
   },
   "outputs": [],
   "source": [
    "def request(method, uri, params=None, body=None, headers=None, auth=False):\n",
    "    \"\"\"Initiate network request\n",
    "   @param method: request method, GET / POST / DELETE / PUT\n",
    "   @param uri: request uri\n",
    "   @param params: dict, request query params\n",
    "   @param body: dict, request body\n",
    "   @param headers: request http header\n",
    "   @param auth: boolean, add permission verification or not\n",
    "   \"\"\"\n",
    "    if params:\n",
    "        query = \"&\".join(\n",
    "            [\"{}={}\".format(k, params[k]) for k in sorted(params.keys())]\n",
    "        )\n",
    "        uri += \"?\" + query\n",
    "    url = urljoin(base_url, uri)\n",
    "\n",
    "    if auth:\n",
    "        timestamp = (\n",
    "                str(time.time()).split(\".\")[0]\n",
    "                + \".\"\n",
    "                + str(time.time()).split(\".\")[1][:3]\n",
    "        )\n",
    "        if body:\n",
    "            body = json.dumps(body)\n",
    "        else:\n",
    "            body = \"\"\n",
    "        message = str(timestamp) + str.upper(method) + uri + str(body)\n",
    "        mac = hmac.new(\n",
    "            bytes(secret_key, encoding=\"utf8\"),\n",
    "            bytes(message, encoding=\"utf-8\"),\n",
    "            digestmod=\"sha256\",\n",
    "        )\n",
    "        d = mac.digest()\n",
    "        sign = base64.b64encode(d)\n",
    "\n",
    "        if not headers:\n",
    "            headers = {}\n",
    "        headers[\"Content-Type\"] = \"application/json\"\n",
    "        headers[\"OK-ACCESS-KEY\"] = api_key\n",
    "        headers[\"OK-ACCESS-SIGN\"] = sign\n",
    "        headers[\"OK-ACCESS-TIMESTAMP\"] = str(timestamp)\n",
    "        headers[\"OK-ACCESS-PASSPHRASE\"] = passphrase\n",
    "    result = requests.request(\n",
    "        method, url, data=body, headers=headers, timeout=10\n",
    "    ).json()\n",
    "    if result.get(\"code\") and result.get(\"code\") != \"0\":\n",
    "        return None, result\n",
    "    return result, None"
   ]
  },
  {
   "cell_type": "code",
   "execution_count": 7,
   "id": "d47e22539d205c93",
   "metadata": {
    "ExecuteTime": {
     "end_time": "2024-08-21T05:51:29.885448300Z",
     "start_time": "2024-08-21T05:51:29.640766600Z"
    },
    "collapsed": false
   },
   "outputs": [
    {
     "data": {
      "text/plain": [
       "({'code': '0',\n",
       "  'data': [{'adjEq': '',\n",
       "    'borrowFroz': '',\n",
       "    'details': [{'accAvgPx': '',\n",
       "      'availBal': '139.51055233416153',\n",
       "      'availEq': '139.51055233416153',\n",
       "      'borrowFroz': '',\n",
       "      'cashBal': '139.51055233416153',\n",
       "      'ccy': 'USDT',\n",
       "      'clSpotInUseAmt': '',\n",
       "      'crossLiab': '',\n",
       "      'disEq': '139.49799638445145',\n",
       "      'eq': '139.51055233416153',\n",
       "      'eqUsd': '139.49799638445145',\n",
       "      'fixedBal': '0',\n",
       "      'frozenBal': '0',\n",
       "      'imr': '0',\n",
       "      'interest': '',\n",
       "      'isoEq': '0',\n",
       "      'isoLiab': '',\n",
       "      'isoUpl': '0',\n",
       "      'liab': '',\n",
       "      'maxLoan': '',\n",
       "      'maxSpotInUse': '',\n",
       "      'mgnRatio': '',\n",
       "      'mmr': '0',\n",
       "      'notionalLever': '0',\n",
       "      'openAvgPx': '',\n",
       "      'ordFrozen': '0',\n",
       "      'rewardBal': '0',\n",
       "      'smtSyncEq': '0',\n",
       "      'spotBal': '',\n",
       "      'spotCopyTradingEq': '0',\n",
       "      'spotInUseAmt': '',\n",
       "      'spotIsoBal': '0',\n",
       "      'spotUpl': '',\n",
       "      'spotUplRatio': '',\n",
       "      'stgyEq': '0',\n",
       "      'totalPnl': '',\n",
       "      'totalPnlRatio': '',\n",
       "      'twap': '0',\n",
       "      'uTime': '1733146951082',\n",
       "      'upl': '0',\n",
       "      'uplLiab': ''}],\n",
       "    'imr': '',\n",
       "    'isoEq': '24.3913444398',\n",
       "    'mgnRatio': '',\n",
       "    'mmr': '',\n",
       "    'notionalUsd': '',\n",
       "    'ordFroz': '',\n",
       "    'totalEq': '165.63685033602246',\n",
       "    'uTime': '1734186787956',\n",
       "    'upl': ''}],\n",
       "  'msg': ''},\n",
       " None)"
      ]
     },
     "execution_count": 7,
     "metadata": {},
     "output_type": "execute_result"
    }
   ],
   "source": [
    "def get_asset(currency):\n",
    "    params = {\"ccy\": currency}\n",
    "    result = request(\n",
    "        \"GET\", \"/api/v5/account/balance\", params=params, auth=True\n",
    "    )\n",
    "    return result\n",
    "\n",
    "\n",
    "get_asset('USDT')"
   ]
  },
  {
   "cell_type": "code",
   "execution_count": 5,
   "id": "cac077405899d0e9",
   "metadata": {
    "ExecuteTime": {
     "end_time": "2024-08-21T05:51:34.301665500Z",
     "start_time": "2024-08-21T05:51:34.058887600Z"
    },
    "collapsed": false
   },
   "outputs": [
    {
     "data": {
      "text/plain": [
       "({'code': '0', 'data': [], 'msg': ''}, None)"
      ]
     },
     "execution_count": 5,
     "metadata": {},
     "output_type": "execute_result"
    }
   ],
   "source": [
    "def get_grid_order_list(order_type):\n",
    "    params = {\"algoOrdType\": order_type}\n",
    "    result = request(\n",
    "        \"GET\", \"/api/v5/tradingBot/grid/orders-algo-pending\", params=params, auth=True\n",
    "    )\n",
    "    return result\n",
    "\n",
    "\n",
    "# get spot grid\n",
    "result = get_grid_order_list(order_type='grid')\n",
    "result"
   ]
  },
  {
   "cell_type": "code",
   "execution_count": 6,
   "id": "cc2dd3c4dbe474a3",
   "metadata": {
    "ExecuteTime": {
     "end_time": "2024-08-21T05:51:37.116014600Z",
     "start_time": "2024-08-21T05:51:36.881035900Z"
    },
    "collapsed": false
   },
   "outputs": [
    {
     "data": {
      "text/plain": [
       "[]"
      ]
     },
     "execution_count": 6,
     "metadata": {},
     "output_type": "execute_result"
    }
   ],
   "source": [
    "# get future grid\n",
    "result = get_grid_order_list(order_type='contract_grid')\n",
    "result[0]['data']"
   ]
  },
  {
   "cell_type": "code",
   "execution_count": 7,
   "id": "f65f7c8180554382",
   "metadata": {
    "ExecuteTime": {
     "end_time": "2024-08-21T05:51:39.321285300Z",
     "start_time": "2024-08-21T05:51:39.108714600Z"
    },
    "collapsed": false
   },
   "outputs": [
    {
     "data": {
      "text/plain": [
       "(None,\n",
       " {'code': '51291',\n",
       "  'data': [],\n",
       "  'msg': 'The bot doesn’t exist or has already stopped'})"
      ]
     },
     "execution_count": 7,
     "metadata": {},
     "output_type": "execute_result"
    }
   ],
   "source": [
    "def get_grid_order_details(order_type, algo_id):\n",
    "    params = {\n",
    "        \"algoOrdType\": order_type,\n",
    "        \"algoId\": algo_id,\n",
    "    }\n",
    "    result = request(\"GET\", \"/api/v5/tradingBot/grid/orders-algo-details\", params=params, auth=True)\n",
    "    return result\n",
    "\n",
    "\n",
    "result = get_grid_order_details('grid', 687405759617044480)\n",
    "result"
   ]
  },
  {
   "cell_type": "code",
   "execution_count": 8,
   "id": "d4140d5c8b01e677",
   "metadata": {
    "ExecuteTime": {
     "end_time": "2024-08-21T05:51:41.899793500Z",
     "start_time": "2024-08-21T05:51:41.628503Z"
    },
    "collapsed": false
   },
   "outputs": [
    {
     "data": {
      "text/plain": [
       "({'code': '0', 'data': [], 'msg': ''}, None)"
      ]
     },
     "execution_count": 8,
     "metadata": {},
     "output_type": "execute_result"
    }
   ],
   "source": [
    "def get_recurring_orders():\n",
    "    result = request(\"GET\", \"/api/v5/tradingBot/recurring/orders-algo-pending\", auth=True)\n",
    "    return result\n",
    "\n",
    "result = get_recurring_orders()\n",
    "result"
   ]
  },
  {
   "cell_type": "code",
   "execution_count": 9,
   "id": "276f8f78ce849f2e",
   "metadata": {
    "ExecuteTime": {
     "end_time": "2024-08-21T05:51:44.716196200Z",
     "start_time": "2024-08-21T05:51:43.850316900Z"
    },
    "collapsed": false
   },
   "outputs": [
    {
     "ename": "TypeError",
     "evalue": "'NoneType' object is not subscriptable",
     "output_type": "error",
     "traceback": [
      "\u001b[1;31m---------------------------------------------------------------------------\u001b[0m",
      "\u001b[1;31mTypeError\u001b[0m                                 Traceback (most recent call last)",
      "Cell \u001b[1;32mIn[9], line 12\u001b[0m\n\u001b[0;32m      9\u001b[0m     \u001b[38;5;28;01mreturn\u001b[39;00m result\n\u001b[0;32m     11\u001b[0m result \u001b[38;5;241m=\u001b[39m get_grid_sub_orders(\u001b[38;5;124m'\u001b[39m\u001b[38;5;124mcontract_grid\u001b[39m\u001b[38;5;124m'\u001b[39m, \u001b[38;5;124m'\u001b[39m\u001b[38;5;124m688176870327844864\u001b[39m\u001b[38;5;124m'\u001b[39m, \u001b[38;5;124m\"\u001b[39m\u001b[38;5;124mlive\u001b[39m\u001b[38;5;124m\"\u001b[39m)\n\u001b[1;32m---> 12\u001b[0m \u001b[38;5;28mlen\u001b[39m(\u001b[43mresult\u001b[49m\u001b[43m[\u001b[49m\u001b[38;5;241;43m0\u001b[39;49m\u001b[43m]\u001b[49m\u001b[43m[\u001b[49m\u001b[38;5;124;43m'\u001b[39;49m\u001b[38;5;124;43mdata\u001b[39;49m\u001b[38;5;124;43m'\u001b[39;49m\u001b[43m]\u001b[49m)\n\u001b[0;32m     13\u001b[0m result[\u001b[38;5;241m0\u001b[39m][\u001b[38;5;124m'\u001b[39m\u001b[38;5;124mdata\u001b[39m\u001b[38;5;124m'\u001b[39m][\u001b[38;5;241m0\u001b[39m]\n",
      "\u001b[1;31mTypeError\u001b[0m: 'NoneType' object is not subscriptable"
     ]
    }
   ],
   "source": [
    "def get_grid_sub_orders(order_type, algo_id, order_status):\n",
    "    params = {\n",
    "        \"algoOrdType\": order_type,\n",
    "        \"algoId\": algo_id,\n",
    "        \"type\": order_status,\n",
    "    }\n",
    "\n",
    "    result = request(\"GET\", \"/api/v5/tradingBot/grid/sub-orders\", params=params, auth=True)\n",
    "    return result\n",
    "\n",
    "result = get_grid_sub_orders('contract_grid', '688176870327844864', \"live\")\n",
    "len(result[0]['data'])\n",
    "result[0]['data'][0]"
   ]
  },
  {
   "cell_type": "code",
   "execution_count": 10,
   "id": "fe29ddff16effa7",
   "metadata": {
    "ExecuteTime": {
     "end_time": "2024-08-21T05:51:47.917924900Z",
     "start_time": "2024-08-21T05:51:47.656202500Z"
    },
    "collapsed": false
   },
   "outputs": [
    {
     "data": {
      "text/plain": [
       "(None,\n",
       " {'code': '51291',\n",
       "  'data': [],\n",
       "  'msg': 'The bot doesn’t exist or has already stopped'})"
      ]
     },
     "execution_count": 10,
     "metadata": {},
     "output_type": "execute_result"
    }
   ],
   "source": [
    "def get_grid_positions(order_type, algo_id):\n",
    "    params = {\n",
    "        \"algoOrdType\": order_type,\n",
    "        \"algoId\": algo_id,\n",
    "    }\n",
    "\n",
    "    result = request(\"GET\", \"/api/v5/tradingBot/grid/positions\", params=params, auth=True)\n",
    "    return result\n",
    "\n",
    "result = get_grid_positions('contract_grid', '687008144513568768')\n",
    "result"
   ]
  },
  {
   "cell_type": "markdown",
   "id": "2f663167c2aad749",
   "metadata": {
    "collapsed": false
   },
   "source": [
    "# SPOT DAILY KLINE DATA"
   ]
  },
  {
   "cell_type": "code",
   "execution_count": 20,
   "id": "5e6330b495bd1198",
   "metadata": {
    "ExecuteTime": {
     "end_time": "2024-08-21T06:42:04.507055800Z",
     "start_time": "2024-08-21T06:42:04.279490300Z"
    },
    "collapsed": false
   },
   "outputs": [
    {
     "data": {
      "text/plain": [
       "[['1724083200000', '58539', '61395.7', '58378.4', '58827.6', '1'],\n",
       " ['1723996800000', '59863.4', '59946.7', '57811.5', '58539', '1'],\n",
       " ['1723910400000', '59390', '60277.3', '59153.3', '59862.2', '1'],\n",
       " ['1723824000000', '58073.6', '59819.8', '57996', '59390', '1'],\n",
       " ['1723737600000', '59686.2', '59849.7', '56114.8', '58074.1', '1'],\n",
       " ['1723651200000', '59433.5', '59774.3', '57715.8', '59686.9', '1'],\n",
       " ['1723564800000', '59477.9', '61770.7', '58827.2', '59431.1', '1'],\n",
       " ['1723478400000', '60206.6', '60413.9', '58417.5', '59477.9', '1'],\n",
       " ['1723392000000', '60126.8', '60697', '57641.4', '60206.6', '1'],\n",
       " ['1723305600000', '60517.9', '61850.8', '59939.7', '60126.8', '1'],\n",
       " ['1723219200000', '59810.4', '61472.5', '59728.5', '60517.9', '1'],\n",
       " ['1723132800000', '59428.1', '62739.6', '59241', '59810.3', '1'],\n",
       " ['1723046400000', '56098.4', '59508.8', '54558.5', '59427.6', '1'],\n",
       " ['1722960000000', '56406.9', '57730.1', '55565.7', '56097.9', '1'],\n",
       " ['1722873600000', '54317.4', '56610.9', '52551.8', '56406.9', '1'],\n",
       " ['1722787200000', '59083.4', '59583.4', '49010.8', '54317.8', '1'],\n",
       " ['1722700800000', '60882.1', '61289.3', '58964.4', '59080.8', '1'],\n",
       " ['1722614400000', '63416.5', '63612.8', '60505', '60882.4', '1'],\n",
       " ['1722528000000', '62901.9', '65654.2', '62291.6', '63416.3', '1'],\n",
       " ['1722441600000', '66385.4', '66838.2', '62667.8', '62901.9', '1'],\n",
       " ['1722355200000', '66219.3', '66844.5', '65305.5', '66385.4', '1'],\n",
       " ['1722268800000', '68098.7', '68119.5', '65574.1', '66220.1', '1'],\n",
       " ['1722182400000', '67650.2', '70043.4', '67621', '68098.7', '1'],\n",
       " ['1722096000000', '68853.1', '69169.3', '66649.4', '67649.1', '1'],\n",
       " ['1722009600000', '67561.3', '69406.7', '67307.5', '68853.1', '1'],\n",
       " ['1721923200000', '64785.1', '68002', '64387', '67561.6', '1'],\n",
       " ['1721836800000', '66178.9', '66709.9', '63453', '64785.1', '1'],\n",
       " ['1721750400000', '66585.5', '67105.6', '65442.6', '66178.9', '1'],\n",
       " ['1721664000000', '67068.9', '68255.8', '65960.9', '66586.4', '1'],\n",
       " ['1721577600000', '67165.2', '68479.7', '65785.7', '67068', '1'],\n",
       " ['1721491200000', '66825.9', '67593.4', '66595.9', '67165.2', '1'],\n",
       " ['1721404800000', '65840.3', '67391.6', '65830.4', '66826.2', '1'],\n",
       " ['1721318400000', '63534.9', '65895.8', '63236.6', '65840.3', '1'],\n",
       " ['1721232000000', '64727.2', '65114.4', '63411.9', '63536.2', '1'],\n",
       " ['1721145600000', '64877.9', '66109.4', '64115', '64728', '1'],\n",
       " ['1721059200000', '63028', '64985.9', '62386.3', '64879.2', '1'],\n",
       " ['1720972800000', '60084.5', '63326.3', '59878.5', '63028.6', '1'],\n",
       " ['1720886400000', '58834.7', '60401', '58286.9', '60084.5', '1'],\n",
       " ['1720800000000', '58211', '58895.7', '57149.4', '58834.7', '1'],\n",
       " ['1720713600000', '57404.4', '58276.1', '56542.5', '58211.4', '1'],\n",
       " ['1720627200000', '57700.4', '59510.5', '57063.7', '57404.1', '1'],\n",
       " ['1720540800000', '57474.2', '59454', '57333.2', '57700.4', '1'],\n",
       " ['1720454400000', '55759.2', '58122', '55425.1', '57474.2', '1'],\n",
       " ['1720368000000', '56828.3', '58211', '54284.4', '55757.8', '1'],\n",
       " ['1720281600000', '57318.4', '58474.9', '56585.5', '56828.4', '1'],\n",
       " ['1720195200000', '56669.5', '57432', '55821.3', '57318.3', '1'],\n",
       " ['1720108800000', '58142.6', '58778.6', '53443.4', '56668.8', '1'],\n",
       " ['1720022400000', '60184.6', '60659.1', '56766.1', '58142.6', '1'],\n",
       " ['1719936000000', '61947.1', '62371.4', '59624.7', '60185.5', '1'],\n",
       " ['1719849600000', '63134.6', '63861.7', '61840.7', '61947.1', '1'],\n",
       " ['1719763200000', '61717.8', '63813.1', '61582.7', '63134.6', '1'],\n",
       " ['1719676800000', '61109.8', '61855', '60711.2', '61717.9', '1'],\n",
       " ['1719590400000', '61059.2', '61220.8', '60055.5', '61109.8', '1'],\n",
       " ['1719504000000', '61583.6', '62224.4', '60746.9', '61059.2', '1'],\n",
       " ['1719417600000', '61471', '62391.6', '60620.4', '61583.6', '1'],\n",
       " ['1719331200000', '61816.4', '62487.2', '61142.3', '61471', '1'],\n",
       " ['1719244800000', '60845.3', '62137.4', '58454.2', '61816.3', '1'],\n",
       " ['1719158400000', '64097.8', '64189.2', '60597.5', '60845.3', '1'],\n",
       " ['1719072000000', '64304.5', '64519.7', '64063.9', '64097.8', '1'],\n",
       " ['1718985600000', '63730.8', '64535.6', '63473.3', '64304.4', '1'],\n",
       " ['1718899200000', '64827.5', '65211.6', '63405', '63729.9', '1'],\n",
       " ['1718812800000', '64924.9', '66484.2', '64655.9', '64827.5', '1'],\n",
       " ['1718726400000', '64707.7', '65729.9', '64059.4', '64924.9', '1'],\n",
       " ['1718640000000', '65364.2', '67299.6', '64272.3', '64705.9', '1'],\n",
       " ['1718553600000', '66708', '66983.4', '65125.1', '65364.2', '1'],\n",
       " ['1718467200000', '66315.7', '66792.4', '65859.3', '66707.9', '1'],\n",
       " ['1718380800000', '66389.7', '66628.5', '65068.9', '66315.1', '1'],\n",
       " ['1718294400000', '66464.9', '67362.3', '66271.2', '66389.7', '1'],\n",
       " ['1718208000000', '69729.1', '69867.3', '66360.6', '66464.9', '1'],\n",
       " ['1718121600000', '66237.7', '70004.5', '66162.4', '69729.1', '1'],\n",
       " ['1718035200000', '70056.7', '70128.1', '66050.7', '66237.8', '1'],\n",
       " ['1717948800000', '69507.7', '70196.3', '69176.6', '70056.4', '1'],\n",
       " ['1717862400000', '69425.9', '69776', '69135.8', '69507.7', '1'],\n",
       " ['1717776000000', '71108.5', '71211', '68452.1', '69425.9', '1'],\n",
       " ['1717689600000', '71301.9', '71984.9', '70124.1', '71108.5', '1'],\n",
       " ['1717603200000', '71577.5', '71760.9', '70744', '71301.9', '1'],\n",
       " ['1717516800000', '70445.1', '71731.2', '70089.9', '71577.5', '1'],\n",
       " ['1717430400000', '69614.7', '70493.8', '68568.7', '70445.1', '1'],\n",
       " ['1717344000000', '68144.4', '70286.4', '67293.3', '69614', '1'],\n",
       " ['1717257600000', '67689.6', '68464.8', '67378.1', '68144.4', '1'],\n",
       " ['1717171200000', '67216.5', '68000.4', '66661.2', '67689.4', '1'],\n",
       " ['1717084800000', '68530', '69514', '67200.2', '67216.5', '1'],\n",
       " ['1716998400000', '67378.9', '68825.1', '67135.4', '68530', '1'],\n",
       " ['1716912000000', '68376.3', '68927.2', '67278.5', '67378.9', '1'],\n",
       " ['1716825600000', '70371.7', '70677.4', '67486', '68376.3', '1'],\n",
       " ['1716739200000', '68846.4', '70522.7', '68180.7', '70371.7', '1'],\n",
       " ['1716652800000', '68935.3', '69546.8', '68670.4', '68846.4', '1'],\n",
       " ['1716566400000', '68331.2', '69595.2', '67930.3', '68935.3', '1'],\n",
       " ['1716480000000', '68074.2', '68420.7', '66317.6', '68331.2', '1'],\n",
       " ['1716393600000', '70456', '70666.7', '67626.1', '68074.2', '1'],\n",
       " ['1716307200000', '69824.6', '70595.6', '69167.2', '70456', '1'],\n",
       " ['1716220800000', '67420.8', '71975.5', '67380.1', '69825.2', '1'],\n",
       " ['1716134400000', '66888.8', '67495.3', '65873.6', '67419.2', '1'],\n",
       " ['1716048000000', '66814.4', '67714.2', '66681.8', '66888.8', '1'],\n",
       " ['1715961600000', '67197.2', '67368.6', '66214.9', '66814.4', '1'],\n",
       " ['1715875200000', '65822.2', '67445.5', '64608.2', '67197.2', '1'],\n",
       " ['1715788800000', '64719.2', '66739.8', '64717.8', '65822.2', '1'],\n",
       " ['1715702400000', '61785.2', '65061.9', '61153.5', '64719.2', '1'],\n",
       " ['1715616000000', '63008.8', '63455.8', '61135.1', '61785.2', '1'],\n",
       " ['1715529600000', '61415.5', '63289.5', '60756.5', '63008.8', '1']]"
      ]
     },
     "execution_count": 20,
     "metadata": {},
     "output_type": "execute_result"
    }
   ],
   "source": [
    "def get_spot_klines(spot, period, limit):\n",
    "    params = {\n",
    "        \"instId\": spot,\n",
    "        \"bar\": period,\n",
    "        \"limit\": limit,\n",
    "    }\n",
    "    \n",
    "    result = request(\"GET\", \"/api/v5/market/history-index-candles\", params=params, auth=True)\n",
    "    return result\n",
    "    # 开，高，低，收\n",
    "\n",
    "result = get_spot_klines('BTC-USDT', '1D', 100)\n",
    "result[0]['data']"
   ]
  },
  {
   "cell_type": "markdown",
   "id": "2cf821e659429c12",
   "metadata": {
    "collapsed": false
   },
   "source": [
    "# Save Different Spots Daily Data"
   ]
  },
  {
   "cell_type": "code",
   "execution_count": 43,
   "id": "3cdef591e8b3393",
   "metadata": {
    "ExecuteTime": {
     "end_time": "2024-08-22T13:17:59.547852500Z",
     "start_time": "2024-08-22T13:17:58.595544800Z"
    },
    "collapsed": false
   },
   "outputs": [
    {
     "name": "stderr",
     "output_type": "stream",
     "text": [
      "C:\\Users\\62552\\AppData\\Local\\Temp\\ipykernel_4980\\3295598858.py:19: FutureWarning: The behavior of 'to_datetime' with 'unit' when parsing strings is deprecated. In a future version, strings will be parsed as datetime strings, matching the behavior without a 'unit'. To retain the old behavior, explicitly cast ints or floats to numeric type before calling to_datetime.\n",
      "  df['timestamp'] = pd.to_datetime(df['timestamp'], unit='ms')\n",
      "C:\\Users\\62552\\AppData\\Local\\Temp\\ipykernel_4980\\3295598858.py:19: FutureWarning: The behavior of 'to_datetime' with 'unit' when parsing strings is deprecated. In a future version, strings will be parsed as datetime strings, matching the behavior without a 'unit'. To retain the old behavior, explicitly cast ints or floats to numeric type before calling to_datetime.\n",
      "  df['timestamp'] = pd.to_datetime(df['timestamp'], unit='ms')\n",
      "C:\\Users\\62552\\AppData\\Local\\Temp\\ipykernel_4980\\3295598858.py:19: FutureWarning: The behavior of 'to_datetime' with 'unit' when parsing strings is deprecated. In a future version, strings will be parsed as datetime strings, matching the behavior without a 'unit'. To retain the old behavior, explicitly cast ints or floats to numeric type before calling to_datetime.\n",
      "  df['timestamp'] = pd.to_datetime(df['timestamp'], unit='ms')\n",
      "C:\\Users\\62552\\AppData\\Local\\Temp\\ipykernel_4980\\3295598858.py:19: FutureWarning: The behavior of 'to_datetime' with 'unit' when parsing strings is deprecated. In a future version, strings will be parsed as datetime strings, matching the behavior without a 'unit'. To retain the old behavior, explicitly cast ints or floats to numeric type before calling to_datetime.\n",
      "  df['timestamp'] = pd.to_datetime(df['timestamp'], unit='ms')\n"
     ]
    }
   ],
   "source": [
    "import pandas as pd\n",
    "\n",
    "spot_pool = ['BTC-USDT', 'ETH-USDT', 'SOL-USDT', 'BNB-USDT']\n",
    "for spot in spot_pool:\n",
    "    data_dict = {\n",
    "        'timestamp': [],\n",
    "        'open': [],\n",
    "        'high': [],\n",
    "        'low': [],\n",
    "        'close': [],\n",
    "    }\n",
    "    result = get_spot_klines(spot, '1D', 1000)\n",
    "    result = result[0]['data']\n",
    "    for data in reversed(result):\n",
    "        keys = list(data_dict.keys())\n",
    "        for i in range(5):\n",
    "            data_dict[keys[i]].append(data[i]) \n",
    "    df = pd.DataFrame(data_dict)\n",
    "    df['timestamp'] = pd.to_datetime(df['timestamp'], unit='ms')\n",
    "    df.to_csv(f'assets/{spot}.csv', index=False)"
   ]
  },
  {
   "cell_type": "markdown",
   "id": "ef2bb3450f75b902",
   "metadata": {
    "collapsed": false
   },
   "source": [
    "# UNIX Timestamp => Normal Timestamp"
   ]
  },
  {
   "cell_type": "code",
   "execution_count": 33,
   "id": "b894d30e802e9511",
   "metadata": {
    "ExecuteTime": {
     "end_time": "2024-08-21T07:02:29.486989100Z",
     "start_time": "2024-08-21T07:02:29.444915200Z"
    },
    "collapsed": false
   },
   "outputs": [
    {
     "ename": "OSError",
     "evalue": "[Errno 22] Invalid argument",
     "output_type": "error",
     "traceback": [
      "\u001b[1;31m---------------------------------------------------------------------------\u001b[0m",
      "\u001b[1;31mOSError\u001b[0m                                   Traceback (most recent call last)",
      "Cell \u001b[1;32mIn[33], line 3\u001b[0m\n\u001b[0;32m      1\u001b[0m \u001b[38;5;28;01mimport\u001b[39;00m \u001b[38;5;21;01mtime\u001b[39;00m\n\u001b[0;32m      2\u001b[0m time_unix \u001b[38;5;241m=\u001b[39m \u001b[38;5;241m1715529600000\u001b[39m\n\u001b[1;32m----> 3\u001b[0m time_normal \u001b[38;5;241m=\u001b[39m \u001b[43mtime\u001b[49m\u001b[38;5;241;43m.\u001b[39;49m\u001b[43mgmtime\u001b[49m\u001b[43m(\u001b[49m\u001b[43mtime_unix\u001b[49m\u001b[43m)\u001b[49m\n\u001b[0;32m      4\u001b[0m dt \u001b[38;5;241m=\u001b[39m time\u001b[38;5;241m.\u001b[39mstrftime(\u001b[38;5;124m\"\u001b[39m\u001b[38;5;124m%\u001b[39m\u001b[38;5;124mY-\u001b[39m\u001b[38;5;124m%\u001b[39m\u001b[38;5;124mm-\u001b[39m\u001b[38;5;132;01m%d\u001b[39;00m\u001b[38;5;124m\"\u001b[39m, time_normal)\n\u001b[0;32m      5\u001b[0m dt\n",
      "\u001b[1;31mOSError\u001b[0m: [Errno 22] Invalid argument"
     ]
    }
   ],
   "source": [
    "import time\n",
    "time_unix = 1715529600000\n",
    "time_normal = time.gmtime(time_unix)\n",
    "dt = time.strftime(\"%Y-%m-%d\", time_normal)\n",
    "dt"
   ]
  }
 ],
 "metadata": {
  "kernelspec": {
   "display_name": ".venv",
   "language": "python",
   "name": "python3"
  },
  "language_info": {
   "codemirror_mode": {
    "name": "ipython",
    "version": 3
   },
   "file_extension": ".py",
   "mimetype": "text/x-python",
   "name": "python",
   "nbconvert_exporter": "python",
   "pygments_lexer": "ipython3",
   "version": "3.9.9"
  }
 },
 "nbformat": 4,
 "nbformat_minor": 5
}
