{
 "cells": [
  {
   "cell_type": "code",
   "execution_count": 1,
   "id": "initial_id",
   "metadata": {
    "collapsed": true,
    "ExecuteTime": {
     "end_time": "2024-03-12T10:26:27.214153900Z",
     "start_time": "2024-03-12T10:26:26.927815Z"
    }
   },
   "outputs": [],
   "source": [
    "import base64\n",
    "import hmac\n",
    "import json\n",
    "import time\n",
    "import requests\n",
    "import toml\n",
    "\n",
    "from urllib.parse import urljoin\n",
    "\n",
    "# params\n",
    "base_url = 'https://www.iihvvs.com'\n",
    "api_config = toml.load('../config/api.toml')\n",
    "api_key = api_config['api_key']\n",
    "secret_key = api_config['secret_key']\n",
    "passphrase = api_config['passphrase']"
   ]
  },
  {
   "cell_type": "code",
   "execution_count": 2,
   "outputs": [],
   "source": [
    "def request(method, uri, params=None, body=None, headers=None, auth=False):\n",
    "    \"\"\"Initiate network request\n",
    "   @param method: request method, GET / POST / DELETE / PUT\n",
    "   @param uri: request uri\n",
    "   @param params: dict, request query params\n",
    "   @param body: dict, request body\n",
    "   @param headers: request http header\n",
    "   @param auth: boolean, add permission verification or not\n",
    "   \"\"\"\n",
    "    if params:\n",
    "        query = \"&\".join(\n",
    "            [\"{}={}\".format(k, params[k]) for k in sorted(params.keys())]\n",
    "        )\n",
    "        uri += \"?\" + query\n",
    "    url = urljoin(base_url, uri)\n",
    "\n",
    "    if auth:\n",
    "        timestamp = (\n",
    "                str(time.time()).split(\".\")[0]\n",
    "                + \".\"\n",
    "                + str(time.time()).split(\".\")[1][:3]\n",
    "        )\n",
    "        if body:\n",
    "            body = json.dumps(body)\n",
    "        else:\n",
    "            body = \"\"\n",
    "        message = str(timestamp) + str.upper(method) + uri + str(body)\n",
    "        mac = hmac.new(\n",
    "            bytes(secret_key, encoding=\"utf8\"),\n",
    "            bytes(message, encoding=\"utf-8\"),\n",
    "            digestmod=\"sha256\",\n",
    "        )\n",
    "        d = mac.digest()\n",
    "        sign = base64.b64encode(d)\n",
    "\n",
    "        if not headers:\n",
    "            headers = {}\n",
    "        headers[\"Content-Type\"] = \"application/json\"\n",
    "        headers[\"OK-ACCESS-KEY\"] = api_key\n",
    "        headers[\"OK-ACCESS-SIGN\"] = sign\n",
    "        headers[\"OK-ACCESS-TIMESTAMP\"] = str(timestamp)\n",
    "        headers[\"OK-ACCESS-PASSPHRASE\"] = passphrase\n",
    "    result = requests.request(\n",
    "        method, url, data=body, headers=headers, timeout=10\n",
    "    ).json()\n",
    "    if result.get(\"code\") and result.get(\"code\") != \"0\":\n",
    "        return None, result\n",
    "    return result, None"
   ],
   "metadata": {
    "collapsed": false,
    "ExecuteTime": {
     "end_time": "2024-03-12T10:26:27.269920600Z",
     "start_time": "2024-03-12T10:26:27.234567900Z"
    }
   },
   "id": "abe08a1ed2955b74"
  },
  {
   "cell_type": "code",
   "execution_count": 3,
   "outputs": [
    {
     "data": {
      "text/plain": "({'code': '0',\n  'data': [{'adjEq': '',\n    'borrowFroz': '',\n    'details': [{'availBal': '0.0000000099259858',\n      'availEq': '0.0000000099259858',\n      'borrowFroz': '',\n      'cashBal': '0.0000000099259858',\n      'ccy': 'USDT',\n      'crossLiab': '',\n      'disEq': '246.06192296036352',\n      'eq': '246.10868361024947',\n      'eqUsd': '246.06192296036352',\n      'fixedBal': '0',\n      'frozenBal': '246.10868360032347',\n      'imr': '0',\n      'interest': '',\n      'isoEq': '0',\n      'isoLiab': '',\n      'isoUpl': '0',\n      'liab': '',\n      'maxLoan': '',\n      'mgnRatio': '',\n      'mmr': '0',\n      'notionalLever': '0',\n      'ordFrozen': '0',\n      'rewardBal': '0',\n      'smtSyncEq': '0',\n      'spotInUseAmt': '',\n      'spotIsoBal': '0',\n      'stgyEq': '246.10868360032347',\n      'twap': '0',\n      'uTime': '1710217333606',\n      'upl': '0',\n      'uplLiab': ''}],\n    'imr': '',\n    'isoEq': '0',\n    'mgnRatio': '',\n    'mmr': '',\n    'notionalUsd': '',\n    'ordFroz': '',\n    'totalEq': '279.1076208267547',\n    'uTime': '1710239187678',\n    'upl': ''}],\n  'msg': ''},\n None)"
     },
     "execution_count": 3,
     "metadata": {},
     "output_type": "execute_result"
    }
   ],
   "source": [
    "def get_asset(currency):\n",
    "    params = {\"ccy\": currency}\n",
    "    result = request(\n",
    "        \"GET\", \"/api/v5/account/balance\", params=params, auth=True\n",
    "    )\n",
    "    return result\n",
    "\n",
    "\n",
    "get_asset('USDT')"
   ],
   "metadata": {
    "collapsed": false,
    "ExecuteTime": {
     "end_time": "2024-03-12T10:26:27.604059200Z",
     "start_time": "2024-03-12T10:26:27.259954400Z"
    }
   },
   "id": "d47e22539d205c93"
  },
  {
   "cell_type": "code",
   "execution_count": 4,
   "outputs": [
    {
     "data": {
      "text/plain": "[{'actualLever': '',\n  'algoClOrdId': '',\n  'algoId': '687405759617044480',\n  'algoOrdType': 'grid',\n  'arbitrageNum': '20',\n  'availEq': '',\n  'basePos': False,\n  'baseSz': '0',\n  'cTime': '1710162304481',\n  'cancelType': '0',\n  'copyType': '0',\n  'direction': '',\n  'floatProfit': '-0.04177479656',\n  'gridNum': '25',\n  'gridProfit': '0.03523336016',\n  'instFamily': '',\n  'instId': 'BTC-USDT',\n  'instType': 'SPOT',\n  'investment': '23.46',\n  'lever': '',\n  'liqPx': '',\n  'maxPx': '75000',\n  'minPx': '68500',\n  'ordFrozen': '',\n  'pnlRatio': '-0.0002788336061382',\n  'profitSharingRatio': '',\n  'quoteSz': '23.46',\n  'rebateTrans': [{'rebate': '0', 'rebateCcy': 'BTC'},\n   {'rebate': '0', 'rebateCcy': 'USDT'}],\n  'runType': '1',\n  'slTriggerPx': '',\n  'state': 'running',\n  'stopType': '',\n  'sz': '',\n  'tag': '',\n  'totalPnl': '-0.0065414364',\n  'tpTriggerPx': '',\n  'triggerParams': [{'triggerAction': 'start',\n    'delaySeconds': '0',\n    'triggerStrategy': 'instant',\n    'triggerType': 'manual',\n    'triggerTime': '1710162304482'},\n   {'triggerAction': 'stop',\n    'delaySeconds': '0',\n    'triggerStrategy': 'instant',\n    'stopType': '1',\n    'triggerType': 'manual',\n    'triggerTime': ''}],\n  'uTime': '1710234827274',\n  'uly': ''},\n {'actualLever': '',\n  'algoClOrdId': '',\n  'algoId': '686281735004487680',\n  'algoOrdType': 'grid',\n  'arbitrageNum': '48',\n  'availEq': '',\n  'basePos': False,\n  'baseSz': '0',\n  'cTime': '1709894316128',\n  'cancelType': '0',\n  'copyType': '0',\n  'direction': '',\n  'floatProfit': '0.203177106272',\n  'gridNum': '30',\n  'gridProfit': '0.142811814984',\n  'instFamily': '',\n  'instId': 'ETH-USDT',\n  'instType': 'SPOT',\n  'investment': '27.09',\n  'lever': '',\n  'liqPx': '',\n  'maxPx': '4300',\n  'minPx': '3500',\n  'ordFrozen': '',\n  'pnlRatio': '0.0127718317185677',\n  'profitSharingRatio': '',\n  'quoteSz': '27.09',\n  'rebateTrans': [{'rebate': '0', 'rebateCcy': 'ETH'},\n   {'rebate': '0', 'rebateCcy': 'USDT'}],\n  'runType': '1',\n  'slTriggerPx': '',\n  'state': 'running',\n  'stopType': '',\n  'sz': '',\n  'tag': '',\n  'totalPnl': '0.345988921256',\n  'tpTriggerPx': '',\n  'triggerParams': [{'triggerAction': 'start',\n    'delaySeconds': '0',\n    'triggerStrategy': 'instant',\n    'triggerType': 'manual',\n    'triggerTime': '1709894316130'},\n   {'triggerAction': 'stop',\n    'delaySeconds': '0',\n    'triggerStrategy': 'instant',\n    'stopType': '1',\n    'triggerType': 'manual',\n    'triggerTime': ''}],\n  'uTime': '1710235454254',\n  'uly': ''},\n {'actualLever': '',\n  'algoClOrdId': '',\n  'algoId': '686150868093374464',\n  'algoOrdType': 'grid',\n  'arbitrageNum': '72',\n  'availEq': '',\n  'basePos': False,\n  'baseSz': '0',\n  'cTime': '1709863115025',\n  'cancelType': '0',\n  'copyType': '0',\n  'direction': '',\n  'floatProfit': '0.187423375832',\n  'gridNum': '22',\n  'gridProfit': '1.2310731168',\n  'instFamily': '',\n  'instId': 'SOL-USDT',\n  'instType': 'SPOT',\n  'investment': '34.5883',\n  'lever': '',\n  'liqPx': '',\n  'maxPx': '160',\n  'minPx': '130',\n  'ordFrozen': '',\n  'pnlRatio': '0.041010876297245',\n  'profitSharingRatio': '',\n  'quoteSz': '34.5883',\n  'rebateTrans': [{'rebate': '0', 'rebateCcy': 'SOL'},\n   {'rebate': '0', 'rebateCcy': 'USDT'}],\n  'runType': '1',\n  'slTriggerPx': '',\n  'state': 'running',\n  'stopType': '',\n  'sz': '',\n  'tag': '',\n  'totalPnl': '1.418496492632',\n  'tpTriggerPx': '',\n  'triggerParams': [{'triggerAction': 'start',\n    'delaySeconds': '0',\n    'triggerStrategy': 'instant',\n    'triggerType': 'manual',\n    'triggerTime': '1709863115027'},\n   {'triggerAction': 'stop',\n    'delaySeconds': '0',\n    'triggerStrategy': 'instant',\n    'stopType': '1',\n    'triggerType': 'manual',\n    'triggerTime': ''}],\n  'uTime': '1710239008112',\n  'uly': ''}]"
     },
     "execution_count": 4,
     "metadata": {},
     "output_type": "execute_result"
    }
   ],
   "source": [
    "def get_grid_order_list(order_type):\n",
    "    params = {\"algoOrdType\": order_type}\n",
    "    result = request(\n",
    "        \"GET\", \"/api/v5/tradingBot/grid/orders-algo-pending\", params=params, auth=True\n",
    "    )\n",
    "    return result\n",
    "\n",
    "\n",
    "# get spot grid\n",
    "result = get_grid_order_list(order_type='grid')\n",
    "result[0]['data']"
   ],
   "metadata": {
    "collapsed": false,
    "ExecuteTime": {
     "end_time": "2024-03-12T10:26:27.861768800Z",
     "start_time": "2024-03-12T10:26:27.614026500Z"
    }
   },
   "id": "cac077405899d0e9"
  },
  {
   "cell_type": "code",
   "execution_count": 9,
   "outputs": [
    {
     "data": {
      "text/plain": "[{'actualLever': '0.5959708139789247',\n  'algoClOrdId': '',\n  'algoId': '687008144513568768',\n  'algoOrdType': 'contract_grid',\n  'arbitrageNum': '6',\n  'availEq': '',\n  'basePos': True,\n  'baseSz': '',\n  'cTime': '1710067505651',\n  'cancelType': '0',\n  'copyType': '0',\n  'direction': 'long',\n  'floatProfit': '-0.14782599740996',\n  'gridNum': '20',\n  'gridProfit': '0.585803',\n  'instFamily': 'BNB-USDT',\n  'instId': 'BNB-USDT-SWAP',\n  'instType': 'SWAP',\n  'investment': '30',\n  'lever': '8',\n  'liqPx': '',\n  'maxPx': '570',\n  'minPx': '380',\n  'ordFrozen': '',\n  'pnlRatio': '0.014599233419668',\n  'profitSharingRatio': '',\n  'quoteSz': '',\n  'rebateTrans': [{'rebate': '0', 'rebateCcy': 'USDT'}],\n  'runType': '1',\n  'slRatio': '',\n  'slTriggerPx': '',\n  'state': 'running',\n  'stopType': '1',\n  'sz': '30',\n  'tag': '',\n  'totalPnl': '0.43797700259004',\n  'tpRatio': '',\n  'tpTriggerPx': '',\n  'triggerParams': [{'triggerAction': 'start',\n    'delaySeconds': '0',\n    'triggerStrategy': 'instant',\n    'triggerType': 'manual',\n    'triggerTime': '1710067505653'},\n   {'triggerAction': 'stop',\n    'delaySeconds': '0',\n    'triggerStrategy': 'instant',\n    'stopType': '1',\n    'triggerType': 'manual',\n    'triggerTime': ''}],\n  'uTime': '1710239452643',\n  'uly': 'BNB-USDT'},\n {'actualLever': '1.7254785453622108',\n  'algoClOrdId': '',\n  'algoId': '686976717839405056',\n  'algoOrdType': 'contract_grid',\n  'arbitrageNum': '39',\n  'availEq': '',\n  'basePos': True,\n  'baseSz': '',\n  'cTime': '1710060012949',\n  'cancelType': '0',\n  'copyType': '0',\n  'direction': 'long',\n  'floatProfit': '-1.79454414149954',\n  'gridNum': '20',\n  'gridProfit': '4.420482',\n  'instFamily': 'MATIC-USDT',\n  'instId': 'MATIC-USDT-SWAP',\n  'instType': 'SWAP',\n  'investment': '38.66',\n  'lever': '10',\n  'liqPx': '0.5027200762252355',\n  'maxPx': '1.25',\n  'minPx': '1.05',\n  'ordFrozen': '',\n  'pnlRatio': '0.0679238970124278',\n  'profitSharingRatio': '',\n  'quoteSz': '',\n  'rebateTrans': [{'rebate': '0', 'rebateCcy': 'USDT'}],\n  'runType': '1',\n  'slRatio': '',\n  'slTriggerPx': '',\n  'state': 'running',\n  'stopType': '1',\n  'sz': '38.66',\n  'tag': '',\n  'totalPnl': '2.62593785850046',\n  'tpRatio': '',\n  'tpTriggerPx': '',\n  'triggerParams': [{'triggerAction': 'start',\n    'delaySeconds': '0',\n    'triggerStrategy': 'instant',\n    'triggerType': 'manual',\n    'triggerTime': '1710060012950'},\n   {'triggerAction': 'stop',\n    'delaySeconds': '0',\n    'triggerStrategy': 'instant',\n    'stopType': '1',\n    'triggerType': 'manual',\n    'triggerTime': ''}],\n  'uTime': '1710239441238',\n  'uly': 'MATIC-USDT'},\n {'actualLever': '0.7178807599926268',\n  'algoClOrdId': '',\n  'algoId': '686152980525223936',\n  'algoOrdType': 'contract_grid',\n  'arbitrageNum': '16',\n  'availEq': '',\n  'basePos': True,\n  'baseSz': '',\n  'cTime': '1709863618668',\n  'cancelType': '0',\n  'copyType': '0',\n  'direction': 'long',\n  'floatProfit': '-1.820793389040196',\n  'gridNum': '18',\n  'gridProfit': '4.92876692',\n  'instFamily': 'SATS-USDT',\n  'instId': 'SATS-USDT-SWAP',\n  'instType': 'SWAP',\n  'investment': '50',\n  'lever': '5',\n  'liqPx': '',\n  'maxPx': '0.0000008',\n  'minPx': '0.00000042',\n  'ordFrozen': '',\n  'pnlRatio': '0.0621594706191961',\n  'profitSharingRatio': '',\n  'quoteSz': '',\n  'rebateTrans': [{'rebate': '0', 'rebateCcy': 'USDT'}],\n  'runType': '1',\n  'slRatio': '',\n  'slTriggerPx': '',\n  'state': 'running',\n  'stopType': '1',\n  'sz': '50',\n  'tag': '',\n  'totalPnl': '3.107973530959804',\n  'tpRatio': '',\n  'tpTriggerPx': '',\n  'triggerParams': [{'triggerAction': 'start',\n    'delaySeconds': '0',\n    'triggerStrategy': 'instant',\n    'triggerType': 'manual',\n    'triggerTime': '1709863618670'},\n   {'triggerAction': 'stop',\n    'delaySeconds': '0',\n    'triggerStrategy': 'instant',\n    'stopType': '1',\n    'triggerType': 'manual',\n    'triggerTime': ''}],\n  'uTime': '1710239454247',\n  'uly': 'SATS-USDT'}]"
     },
     "execution_count": 9,
     "metadata": {},
     "output_type": "execute_result"
    }
   ],
   "source": [
    "# get future grid\n",
    "result = get_grid_order_list(order_type='contract_grid')\n",
    "result[0]['data']"
   ],
   "metadata": {
    "collapsed": false,
    "ExecuteTime": {
     "end_time": "2024-03-12T10:30:54.488939500Z",
     "start_time": "2024-03-12T10:30:54.295984500Z"
    }
   },
   "id": "cc2dd3c4dbe474a3"
  },
  {
   "cell_type": "code",
   "execution_count": 11,
   "outputs": [
    {
     "data": {
      "text/plain": "({'code': '0',\n  'data': [{'activeOrdNum': '25',\n    'actualLever': '',\n    'algoClOrdId': '',\n    'algoId': '687405759617044480',\n    'algoOrdType': 'grid',\n    'annualizedRate': '0.6264852738229058',\n    'arbitrageNum': '20',\n    'availEq': '',\n    'basePos': False,\n    'baseSz': '0',\n    'cTime': '1710162304481',\n    'cancelType': '0',\n    'copyType': '0',\n    'curBaseSz': '0.0001572332',\n    'curQuoteSz': '12.18782557016',\n    'direction': '',\n    'eq': '',\n    'floatProfit': '-0.01973070192',\n    'gridNum': '25',\n    'gridProfit': '0.03523336016',\n    'instFamily': '',\n    'instId': 'BTC-USDT',\n    'instType': 'SPOT',\n    'investment': '23.46',\n    'lever': '',\n    'liqPx': '',\n    'maxPx': '75000',\n    'minPx': '68500',\n    'ordFrozen': '',\n    'perMaxProfitRate': '0.0017890329927007255562',\n    'perMinProfitRate': '0.0014727722772276442034',\n    'pnlRatio': '0.0006608123716965',\n    'profit': '0.03523336',\n    'profitSharingRatio': '',\n    'quoteSz': '23.46',\n    'rebateTrans': [{'rebate': '0', 'rebateCcy': 'BTC'},\n     {'rebate': '0', 'rebateCcy': 'USDT'}],\n    'runPx': '71858.2',\n    'runType': '1',\n    'singleAmt': '0.0000131',\n    'slRatio': '',\n    'slTriggerPx': '',\n    'state': 'running',\n    'stopResult': '0',\n    'stopType': '2',\n    'sz': '',\n    'tag': '',\n    'totalAnnualizedRate': '0.2756531607648257',\n    'totalPnl': '0.01550265824',\n    'tpRatio': '',\n    'tpTriggerPx': '',\n    'tradeNum': '52',\n    'triggerParams': [{'triggerAction': 'start',\n      'delaySeconds': '0',\n      'triggerStrategy': 'instant',\n      'triggerType': 'manual',\n      'triggerTime': '1710162304482'},\n     {'triggerAction': 'stop',\n      'delaySeconds': '0',\n      'triggerStrategy': 'instant',\n      'stopType': '1',\n      'triggerType': 'manual',\n      'triggerTime': ''}],\n    'uTime': '1710234827274',\n    'uly': ''}],\n  'msg': ''},\n None)"
     },
     "execution_count": 11,
     "metadata": {},
     "output_type": "execute_result"
    }
   ],
   "source": [
    "def get_grid_order_details(order_type, algo_id):\n",
    "    params = {\n",
    "        \"algoOrdType\": order_type,\n",
    "        \"algoId\": algo_id,\n",
    "    }\n",
    "    result = request(\"GET\", \"/api/v5/tradingBot/grid/orders-algo-details\", params=params, auth=True)\n",
    "    return result\n",
    "\n",
    "\n",
    "result = get_grid_order_details('grid', 687405759617044480)\n",
    "result"
   ],
   "metadata": {
    "collapsed": false,
    "ExecuteTime": {
     "end_time": "2024-03-12T10:35:30.922234500Z",
     "start_time": "2024-03-12T10:35:30.731141800Z"
    }
   },
   "id": "f65f7c8180554382"
  },
  {
   "cell_type": "code",
   "execution_count": 19,
   "outputs": [
    {
     "data": {
      "text/plain": "{'accFillSz': '0',\n 'algoClOrdId': '',\n 'algoId': '687405759617044480',\n 'algoOrdType': 'grid',\n 'avgPx': '0',\n 'cTime': '1710234827244',\n 'ccy': '',\n 'cilentOrdid': '',\n 'ctVal': '',\n 'fee': '0',\n 'feeCcy': 'BTC',\n 'groupId': '',\n 'instId': 'BTC-USDT',\n 'instType': 'SPOT',\n 'lever': '0',\n 'ordId': '687709942161543223',\n 'ordType': 'limit',\n 'pnl': '0',\n 'posSide': 'net',\n 'px': '7.162E+4',\n 'rebate': '0',\n 'rebateCcy': 'USDT',\n 'side': 'buy',\n 'state': 'live',\n 'sz': '0.0000131',\n 'tag': '',\n 'tdMode': 'cash',\n 'uTime': '1710234827244'}"
     },
     "execution_count": 19,
     "metadata": {},
     "output_type": "execute_result"
    }
   ],
   "source": [
    "def get_grid_sub_orders(order_type, algo_id, order_status):\n",
    "    params = {\n",
    "        \"algoOrdType\": order_type,\n",
    "        \"algoId\": algo_id,\n",
    "        \"type\": order_status,\n",
    "    }\n",
    "\n",
    "    result = request(\"GET\", \"/api/v5/tradingBot/grid/sub-orders\", params=params, auth=True)\n",
    "    return result\n",
    "\n",
    "result = get_grid_sub_orders('grid', 687405759617044480, \"live\")\n",
    "len(result[0]['data'])\n",
    "result[0]['data'][0]"
   ],
   "metadata": {
    "collapsed": false,
    "ExecuteTime": {
     "end_time": "2024-03-12T10:41:55.093681700Z",
     "start_time": "2024-03-12T10:41:54.893936Z"
    }
   },
   "id": "276f8f78ce849f2e"
  },
  {
   "cell_type": "code",
   "execution_count": 23,
   "outputs": [
    {
     "data": {
      "text/plain": "({'code': '0',\n  'data': [{'adl': '1',\n    'algoClOrdId': '',\n    'algoId': '687008144513568768',\n    'avgPx': '524.6291666666666668',\n    'cTime': '1710067505657',\n    'ccy': 'USDT',\n    'imr': '2.6425',\n    'instId': 'BNB-USDT-SWAP',\n    'instType': 'SWAP',\n    'last': '528.6',\n    'lever': '8',\n    'liqPx': '',\n    'markPx': '528.5',\n    'mgnMode': 'cross',\n    'mgnRatio': '47.87387079685098',\n    'mmr': '0.13741',\n    'notionalUsd': '21.134080800000003',\n    'pos': '4',\n    'posSide': 'net',\n    'uTime': '1710231186151',\n    'upl': '0.1548333333333312',\n    'uplRatio': '0.0590258198251146'}],\n  'msg': ''},\n None)"
     },
     "execution_count": 23,
     "metadata": {},
     "output_type": "execute_result"
    }
   ],
   "source": [
    "def get_grid_positions(order_type, algo_id):\n",
    "    params = {\n",
    "        \"algoOrdType\": order_type,\n",
    "        \"algoId\": algo_id,\n",
    "    }\n",
    "\n",
    "    result = request(\"GET\", \"/api/v5/tradingBot/grid/positions\", params=params, auth=True)\n",
    "    return result\n",
    "\n",
    "result = get_grid_positions('contract_grid', '687008144513568768')\n",
    "result"
   ],
   "metadata": {
    "collapsed": false,
    "ExecuteTime": {
     "end_time": "2024-03-12T10:48:44.863827500Z",
     "start_time": "2024-03-12T10:48:44.664669600Z"
    }
   },
   "id": "fe29ddff16effa7"
  }
 ],
 "metadata": {
  "kernelspec": {
   "display_name": "Python 3",
   "language": "python",
   "name": "python3"
  },
  "language_info": {
   "codemirror_mode": {
    "name": "ipython",
    "version": 2
   },
   "file_extension": ".py",
   "mimetype": "text/x-python",
   "name": "python",
   "nbconvert_exporter": "python",
   "pygments_lexer": "ipython2",
   "version": "2.7.6"
  }
 },
 "nbformat": 4,
 "nbformat_minor": 5
}
