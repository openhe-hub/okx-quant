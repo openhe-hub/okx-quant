{
 "cells": [
  {
   "cell_type": "code",
   "execution_count": 1,
   "id": "initial_id",
   "metadata": {
    "collapsed": true,
    "ExecuteTime": {
     "end_time": "2024-03-14T04:52:48.688508600Z",
     "start_time": "2024-03-14T04:52:48.616738900Z"
    }
   },
   "outputs": [],
   "source": [
    "import base64\n",
    "import hmac\n",
    "import json\n",
    "import time\n",
    "import requests\n",
    "import toml\n",
    "\n",
    "from urllib.parse import urljoin\n",
    "\n",
    "# params\n",
    "base_url = 'https://www.iihvvs.com'\n",
    "api_config = toml.load('../config/api.toml')\n",
    "api_key = api_config['api_key']\n",
    "secret_key = api_config['secret_key']\n",
    "passphrase = api_config['passphrase']"
   ]
  },
  {
   "cell_type": "code",
   "execution_count": 2,
   "outputs": [],
   "source": [
    "def request(method, uri, params=None, body=None, headers=None, auth=False):\n",
    "    \"\"\"Initiate network request\n",
    "   @param method: request method, GET / POST / DELETE / PUT\n",
    "   @param uri: request uri\n",
    "   @param params: dict, request query params\n",
    "   @param body: dict, request body\n",
    "   @param headers: request http header\n",
    "   @param auth: boolean, add permission verification or not\n",
    "   \"\"\"\n",
    "    if params:\n",
    "        query = \"&\".join(\n",
    "            [\"{}={}\".format(k, params[k]) for k in sorted(params.keys())]\n",
    "        )\n",
    "        uri += \"?\" + query\n",
    "    url = urljoin(base_url, uri)\n",
    "\n",
    "    if auth:\n",
    "        timestamp = (\n",
    "                str(time.time()).split(\".\")[0]\n",
    "                + \".\"\n",
    "                + str(time.time()).split(\".\")[1][:3]\n",
    "        )\n",
    "        if body:\n",
    "            body = json.dumps(body)\n",
    "        else:\n",
    "            body = \"\"\n",
    "        message = str(timestamp) + str.upper(method) + uri + str(body)\n",
    "        mac = hmac.new(\n",
    "            bytes(secret_key, encoding=\"utf8\"),\n",
    "            bytes(message, encoding=\"utf-8\"),\n",
    "            digestmod=\"sha256\",\n",
    "        )\n",
    "        d = mac.digest()\n",
    "        sign = base64.b64encode(d)\n",
    "\n",
    "        if not headers:\n",
    "            headers = {}\n",
    "        headers[\"Content-Type\"] = \"application/json\"\n",
    "        headers[\"OK-ACCESS-KEY\"] = api_key\n",
    "        headers[\"OK-ACCESS-SIGN\"] = sign\n",
    "        headers[\"OK-ACCESS-TIMESTAMP\"] = str(timestamp)\n",
    "        headers[\"OK-ACCESS-PASSPHRASE\"] = passphrase\n",
    "    result = requests.request(\n",
    "        method, url, data=body, headers=headers, timeout=10\n",
    "    ).json()\n",
    "    if result.get(\"code\") and result.get(\"code\") != \"0\":\n",
    "        return None, result\n",
    "    return result, None"
   ],
   "metadata": {
    "collapsed": false,
    "ExecuteTime": {
     "end_time": "2024-03-14T04:52:48.709481600Z",
     "start_time": "2024-03-14T04:52:48.695830800Z"
    }
   },
   "id": "abe08a1ed2955b74"
  },
  {
   "cell_type": "code",
   "execution_count": 3,
   "outputs": [
    {
     "data": {
      "text/plain": "({'code': '0',\n  'data': [{'adjEq': '',\n    'borrowFroz': '',\n    'details': [{'availBal': '0.0089344887289903',\n      'availEq': '0.0089344887289903',\n      'borrowFroz': '',\n      'cashBal': '0.0089344887289903',\n      'ccy': 'USDT',\n      'crossLiab': '',\n      'disEq': '251.4651219879153',\n      'eq': '251.42740787673375',\n      'eqUsd': '251.4651219879153',\n      'fixedBal': '0',\n      'frozenBal': '251.41847338800477',\n      'imr': '0',\n      'interest': '',\n      'isoEq': '0',\n      'isoLiab': '',\n      'isoUpl': '0',\n      'liab': '',\n      'maxLoan': '',\n      'mgnRatio': '',\n      'mmr': '0',\n      'notionalLever': '0',\n      'ordFrozen': '0',\n      'rewardBal': '0',\n      'smtSyncEq': '0',\n      'spotInUseAmt': '',\n      'spotIsoBal': '0',\n      'stgyEq': '251.41847338800477',\n      'twap': '0',\n      'uTime': '1710390749220',\n      'upl': '0',\n      'uplLiab': ''}],\n    'imr': '',\n    'isoEq': '0',\n    'mgnRatio': '',\n    'mmr': '',\n    'notionalUsd': '',\n    'ordFroz': '',\n    'totalEq': '291.7224937092662',\n    'uTime': '1710391965867',\n    'upl': ''}],\n  'msg': ''},\n None)"
     },
     "execution_count": 3,
     "metadata": {},
     "output_type": "execute_result"
    }
   ],
   "source": [
    "def get_asset(currency):\n",
    "    params = {\"ccy\": currency}\n",
    "    result = request(\n",
    "        \"GET\", \"/api/v5/account/balance\", params=params, auth=True\n",
    "    )\n",
    "    return result\n",
    "\n",
    "\n",
    "get_asset('USDT')"
   ],
   "metadata": {
    "collapsed": false,
    "ExecuteTime": {
     "end_time": "2024-03-14T04:52:48.934664300Z",
     "start_time": "2024-03-14T04:52:48.706081500Z"
    }
   },
   "id": "d47e22539d205c93"
  },
  {
   "cell_type": "code",
   "execution_count": 9,
   "outputs": [
    {
     "data": {
      "text/plain": "({'code': '0',\n  'data': [{'actualLever': '',\n    'algoClOrdId': '',\n    'algoId': '688176870327844864',\n    'algoOrdType': 'grid',\n    'arbitrageNum': '7',\n    'availEq': '',\n    'basePos': False,\n    'baseSz': '0',\n    'cTime': '1710346151601',\n    'cancelType': '0',\n    'copyType': '0',\n    'direction': '',\n    'floatProfit': '0.627046753234',\n    'gridNum': '20',\n    'gridProfit': '0.4357140544',\n    'instFamily': '',\n    'instId': 'SOL-USDT',\n    'instType': 'SPOT',\n    'investment': '38',\n    'lever': '',\n    'liqPx': '',\n    'maxPx': '180',\n    'minPx': '140',\n    'ordFrozen': '',\n    'pnlRatio': '0.0279673896745789',\n    'profitSharingRatio': '',\n    'quoteSz': '38',\n    'rebateTrans': [{'rebate': '0', 'rebateCcy': 'SOL'},\n     {'rebate': '0', 'rebateCcy': 'USDT'}],\n    'runType': '1',\n    'slTriggerPx': '',\n    'state': 'running',\n    'stopType': '',\n    'sz': '',\n    'tag': '',\n    'totalPnl': '1.062760807634',\n    'tpTriggerPx': '',\n    'triggerParams': [{'triggerAction': 'start',\n      'delaySeconds': '0',\n      'triggerStrategy': 'instant',\n      'triggerType': 'manual',\n      'triggerTime': '1710346151603'},\n     {'triggerAction': 'stop',\n      'delaySeconds': '0',\n      'triggerStrategy': 'instant',\n      'stopType': '1',\n      'triggerType': 'manual',\n      'triggerTime': ''}],\n    'uTime': '1710378796822',\n    'uly': ''},\n   {'actualLever': '',\n    'algoClOrdId': '',\n    'algoId': '687405759617044480',\n    'algoOrdType': 'grid',\n    'arbitrageNum': '92',\n    'availEq': '',\n    'basePos': False,\n    'baseSz': '0',\n    'cTime': '1710162304481',\n    'cancelType': '0',\n    'copyType': '0',\n    'direction': '',\n    'floatProfit': '0.11097768584',\n    'gridNum': '25',\n    'gridProfit': '0.16484537448',\n    'instFamily': '',\n    'instId': 'BTC-USDT',\n    'instType': 'SPOT',\n    'investment': '23.46',\n    'lever': '',\n    'liqPx': '',\n    'maxPx': '75000',\n    'minPx': '68500',\n    'ordFrozen': '',\n    'pnlRatio': '0.0117571636965046',\n    'profitSharingRatio': '',\n    'quoteSz': '23.46',\n    'rebateTrans': [{'rebate': '0', 'rebateCcy': 'BTC'},\n     {'rebate': '0', 'rebateCcy': 'USDT'}],\n    'runType': '1',\n    'slTriggerPx': '',\n    'state': 'running',\n    'stopType': '',\n    'sz': '',\n    'tag': '',\n    'totalPnl': '0.27582306032',\n    'tpTriggerPx': '',\n    'triggerParams': [{'triggerAction': 'start',\n      'delaySeconds': '0',\n      'triggerStrategy': 'instant',\n      'triggerType': 'manual',\n      'triggerTime': '1710162304482'},\n     {'triggerAction': 'stop',\n      'delaySeconds': '0',\n      'triggerStrategy': 'instant',\n      'stopType': '1',\n      'triggerType': 'manual',\n      'triggerTime': ''}],\n    'uTime': '1710391280335',\n    'uly': ''},\n   {'actualLever': '',\n    'algoClOrdId': '',\n    'algoId': '686281735004487680',\n    'algoOrdType': 'grid',\n    'arbitrageNum': '75',\n    'availEq': '',\n    'basePos': False,\n    'baseSz': '0',\n    'cTime': '1709894316128',\n    'cancelType': '0',\n    'copyType': '0',\n    'direction': '',\n    'floatProfit': '0.14782058688',\n    'gridNum': '30',\n    'gridProfit': '0.182494885328',\n    'instFamily': '',\n    'instId': 'ETH-USDT',\n    'instType': 'SPOT',\n    'investment': '27.09',\n    'lever': '',\n    'liqPx': '',\n    'maxPx': '4300',\n    'minPx': '3500',\n    'ordFrozen': '',\n    'pnlRatio': '0.0121932621708379',\n    'profitSharingRatio': '',\n    'quoteSz': '27.09',\n    'rebateTrans': [{'rebate': '0', 'rebateCcy': 'ETH'},\n     {'rebate': '0', 'rebateCcy': 'USDT'}],\n    'runType': '1',\n    'slTriggerPx': '',\n    'state': 'running',\n    'stopType': '',\n    'sz': '',\n    'tag': '',\n    'totalPnl': '0.330315472208',\n    'tpTriggerPx': '',\n    'triggerParams': [{'triggerAction': 'start',\n      'delaySeconds': '0',\n      'triggerStrategy': 'instant',\n      'triggerType': 'manual',\n      'triggerTime': '1709894316130'},\n     {'triggerAction': 'stop',\n      'delaySeconds': '0',\n      'triggerStrategy': 'instant',\n      'stopType': '1',\n      'triggerType': 'manual',\n      'triggerTime': ''}],\n    'uTime': '1710391946313',\n    'uly': ''}],\n  'msg': ''},\n None)"
     },
     "execution_count": 9,
     "metadata": {},
     "output_type": "execute_result"
    }
   ],
   "source": [
    "def get_grid_order_list(order_type):\n",
    "    params = {\"algoOrdType\": order_type}\n",
    "    result = request(\n",
    "        \"GET\", \"/api/v5/tradingBot/grid/orders-algo-pending\", params=params, auth=True\n",
    "    )\n",
    "    return result\n",
    "\n",
    "\n",
    "# get spot grid\n",
    "result = get_grid_order_list(order_type='grid')\n",
    "result"
   ],
   "metadata": {
    "collapsed": false,
    "ExecuteTime": {
     "end_time": "2024-03-14T04:52:57.844158Z",
     "start_time": "2024-03-14T04:52:57.618040500Z"
    }
   },
   "id": "cac077405899d0e9"
  },
  {
   "cell_type": "code",
   "execution_count": 5,
   "outputs": [
    {
     "data": {
      "text/plain": "[{'actualLever': '1.7930086823313554',\n  'algoClOrdId': '',\n  'algoId': '688097705075412992',\n  'algoOrdType': 'contract_grid',\n  'arbitrageNum': '19',\n  'availEq': '',\n  'basePos': True,\n  'baseSz': '',\n  'cTime': '1710327277131',\n  'cancelType': '0',\n  'copyType': '0',\n  'direction': 'long',\n  'floatProfit': '-1.330893202865814',\n  'gridNum': '20',\n  'gridProfit': '2.684848',\n  'instFamily': 'MATIC-USDT',\n  'instId': 'MATIC-USDT-SWAP',\n  'instType': 'SWAP',\n  'investment': '40',\n  'lever': '10',\n  'liqPx': '0.5504203625858646',\n  'maxPx': '1.3',\n  'minPx': '1.1',\n  'ordFrozen': '',\n  'pnlRatio': '0.0338488699283547',\n  'profitSharingRatio': '',\n  'quoteSz': '',\n  'rebateTrans': [{'rebate': '0', 'rebateCcy': 'USDT'}],\n  'runType': '1',\n  'slRatio': '',\n  'slTriggerPx': '',\n  'state': 'running',\n  'stopType': '1',\n  'sz': '40',\n  'tag': '',\n  'totalPnl': '1.353954797134186',\n  'tpRatio': '',\n  'tpTriggerPx': '',\n  'triggerParams': [{'triggerAction': 'start',\n    'delaySeconds': '0',\n    'triggerStrategy': 'instant',\n    'triggerType': 'manual',\n    'triggerTime': '1710327277133'},\n   {'triggerAction': 'stop',\n    'delaySeconds': '0',\n    'triggerStrategy': 'instant',\n    'stopType': '1',\n    'triggerType': 'manual',\n    'triggerTime': ''}],\n  'uTime': '1710391965138',\n  'uly': 'MATIC-USDT'},\n {'actualLever': '0.3268605887189738',\n  'algoClOrdId': '',\n  'algoId': '688093325341229056',\n  'algoOrdType': 'contract_grid',\n  'arbitrageNum': '6',\n  'availEq': '',\n  'basePos': True,\n  'baseSz': '',\n  'cTime': '1710326232923',\n  'cancelType': '0',\n  'copyType': '0',\n  'direction': 'long',\n  'floatProfit': '-0.18589135035332',\n  'gridNum': '22',\n  'gridProfit': '1.4066528',\n  'instFamily': 'BNB-USDT',\n  'instId': 'BNB-USDT-SWAP',\n  'instType': 'SWAP',\n  'investment': '36',\n  'lever': '5',\n  'liqPx': '',\n  'maxPx': '630',\n  'minPx': '430',\n  'ordFrozen': '',\n  'pnlRatio': '0.0339100402679633',\n  'profitSharingRatio': '',\n  'quoteSz': '',\n  'rebateTrans': [{'rebate': '0', 'rebateCcy': 'USDT'}],\n  'runType': '1',\n  'slRatio': '',\n  'slTriggerPx': '',\n  'state': 'running',\n  'stopType': '1',\n  'sz': '36',\n  'tag': '',\n  'totalPnl': '1.22076144964668',\n  'tpRatio': '',\n  'tpTriggerPx': '',\n  'triggerParams': [{'triggerAction': 'start',\n    'delaySeconds': '0',\n    'triggerStrategy': 'instant',\n    'triggerType': 'manual',\n    'triggerTime': '1710326232925'},\n   {'triggerAction': 'stop',\n    'delaySeconds': '0',\n    'triggerStrategy': 'instant',\n    'stopType': '1',\n    'triggerType': 'manual',\n    'triggerTime': ''}],\n  'uTime': '1710391966062',\n  'uly': 'BNB-USDT'},\n {'actualLever': '0.6989672629763893',\n  'algoClOrdId': '',\n  'algoId': '686152980525223936',\n  'algoOrdType': 'contract_grid',\n  'arbitrageNum': '23',\n  'availEq': '',\n  'basePos': True,\n  'baseSz': '',\n  'cTime': '1709863618668',\n  'cancelType': '0',\n  'copyType': '0',\n  'direction': 'long',\n  'floatProfit': '-2.8956582280953',\n  'gridNum': '18',\n  'gridProfit': '6.38833142',\n  'instFamily': 'SATS-USDT',\n  'instId': 'SATS-USDT-SWAP',\n  'instType': 'SWAP',\n  'investment': '50',\n  'lever': '5',\n  'liqPx': '',\n  'maxPx': '0.0000008',\n  'minPx': '0.00000042',\n  'ordFrozen': '',\n  'pnlRatio': '0.069853463838094',\n  'profitSharingRatio': '',\n  'quoteSz': '',\n  'rebateTrans': [{'rebate': '0', 'rebateCcy': 'USDT'}],\n  'runType': '1',\n  'slRatio': '',\n  'slTriggerPx': '',\n  'state': 'running',\n  'stopType': '1',\n  'sz': '50',\n  'tag': '',\n  'totalPnl': '3.4926731919047',\n  'tpRatio': '',\n  'tpTriggerPx': '',\n  'triggerParams': [{'triggerAction': 'start',\n    'delaySeconds': '0',\n    'triggerStrategy': 'instant',\n    'triggerType': 'manual',\n    'triggerTime': '1709863618670'},\n   {'triggerAction': 'stop',\n    'delaySeconds': '0',\n    'triggerStrategy': 'instant',\n    'stopType': '1',\n    'triggerType': 'manual',\n    'triggerTime': ''}],\n  'uTime': '1710391965728',\n  'uly': 'SATS-USDT'}]"
     },
     "execution_count": 5,
     "metadata": {},
     "output_type": "execute_result"
    }
   ],
   "source": [
    "# get future grid\n",
    "result = get_grid_order_list(order_type='contract_grid')\n",
    "result[0]['data']"
   ],
   "metadata": {
    "collapsed": false,
    "ExecuteTime": {
     "end_time": "2024-03-14T04:52:49.330290500Z",
     "start_time": "2024-03-14T04:52:49.116622300Z"
    }
   },
   "id": "cc2dd3c4dbe474a3"
  },
  {
   "cell_type": "code",
   "execution_count": 6,
   "outputs": [
    {
     "data": {
      "text/plain": "({'code': '0',\n  'data': [{'activeOrdNum': '25',\n    'actualLever': '',\n    'algoClOrdId': '',\n    'algoId': '687405759617044480',\n    'algoOrdType': 'grid',\n    'annualizedRate': '0.9770399331823109',\n    'arbitrageNum': '92',\n    'availEq': '',\n    'basePos': False,\n    'baseSz': '0',\n    'cTime': '1710162304481',\n    'cancelType': '0',\n    'copyType': '0',\n    'curBaseSz': '0.00010556056',\n    'curQuoteSz': '16.06273151448',\n    'direction': '',\n    'eq': '',\n    'floatProfit': '0.114081166304',\n    'gridNum': '25',\n    'gridProfit': '0.16484537448',\n    'instFamily': '',\n    'instId': 'BTC-USDT',\n    'instType': 'SPOT',\n    'investment': '23.46',\n    'lever': '',\n    'liqPx': '',\n    'maxPx': '75000',\n    'minPx': '68500',\n    'ordFrozen': '',\n    'perMaxProfitRate': '0.0017890329927007255562',\n    'perMinProfitRate': '0.0014727722772276442034',\n    'pnlRatio': '0.0118894518663256',\n    'profit': '0.16484537',\n    'profitSharingRatio': '',\n    'quoteSz': '23.46',\n    'rebateTrans': [{'rebate': '0', 'rebateCcy': 'BTC'},\n     {'rebate': '0', 'rebateCcy': 'USDT'}],\n    'runPx': '71858.2',\n    'runType': '1',\n    'singleAmt': '0.0000131',\n    'slRatio': '',\n    'slTriggerPx': '',\n    'state': 'running',\n    'stopResult': '0',\n    'stopType': '2',\n    'sz': '',\n    'tag': '',\n    'totalAnnualizedRate': '1.6531999737938452',\n    'totalPnl': '0.278926540784',\n    'tpRatio': '',\n    'tpTriggerPx': '',\n    'tradeNum': '192',\n    'triggerParams': [{'triggerAction': 'start',\n      'delaySeconds': '0',\n      'triggerStrategy': 'instant',\n      'triggerType': 'manual',\n      'triggerTime': '1710162304482'},\n     {'triggerAction': 'stop',\n      'delaySeconds': '0',\n      'triggerStrategy': 'instant',\n      'stopType': '1',\n      'triggerType': 'manual',\n      'triggerTime': ''}],\n    'uTime': '1710391280335',\n    'uly': ''}],\n  'msg': ''},\n None)"
     },
     "execution_count": 6,
     "metadata": {},
     "output_type": "execute_result"
    }
   ],
   "source": [
    "def get_grid_order_details(order_type, algo_id):\n",
    "    params = {\n",
    "        \"algoOrdType\": order_type,\n",
    "        \"algoId\": algo_id,\n",
    "    }\n",
    "    result = request(\"GET\", \"/api/v5/tradingBot/grid/orders-algo-details\", params=params, auth=True)\n",
    "    return result\n",
    "\n",
    "\n",
    "result = get_grid_order_details('grid', 687405759617044480)\n",
    "result"
   ],
   "metadata": {
    "collapsed": false,
    "ExecuteTime": {
     "end_time": "2024-03-14T04:52:49.515972300Z",
     "start_time": "2024-03-14T04:52:49.316746700Z"
    }
   },
   "id": "f65f7c8180554382"
  },
  {
   "cell_type": "code",
   "execution_count": 12,
   "outputs": [
    {
     "ename": "TypeError",
     "evalue": "'NoneType' object is not subscriptable",
     "output_type": "error",
     "traceback": [
      "\u001B[1;31m---------------------------------------------------------------------------\u001B[0m",
      "\u001B[1;31mTypeError\u001B[0m                                 Traceback (most recent call last)",
      "Cell \u001B[1;32mIn[12], line 12\u001B[0m\n\u001B[0;32m      9\u001B[0m     \u001B[38;5;28;01mreturn\u001B[39;00m result\n\u001B[0;32m     11\u001B[0m result \u001B[38;5;241m=\u001B[39m get_grid_sub_orders(\u001B[38;5;124m'\u001B[39m\u001B[38;5;124mcontract_grid\u001B[39m\u001B[38;5;124m'\u001B[39m, \u001B[38;5;124m'\u001B[39m\u001B[38;5;124m688176870327844864\u001B[39m\u001B[38;5;124m'\u001B[39m, \u001B[38;5;124m\"\u001B[39m\u001B[38;5;124mlive\u001B[39m\u001B[38;5;124m\"\u001B[39m)\n\u001B[1;32m---> 12\u001B[0m \u001B[38;5;28mlen\u001B[39m(\u001B[43mresult\u001B[49m\u001B[43m[\u001B[49m\u001B[38;5;241;43m0\u001B[39;49m\u001B[43m]\u001B[49m\u001B[43m[\u001B[49m\u001B[38;5;124;43m'\u001B[39;49m\u001B[38;5;124;43mdata\u001B[39;49m\u001B[38;5;124;43m'\u001B[39;49m\u001B[43m]\u001B[49m)\n\u001B[0;32m     13\u001B[0m result[\u001B[38;5;241m0\u001B[39m][\u001B[38;5;124m'\u001B[39m\u001B[38;5;124mdata\u001B[39m\u001B[38;5;124m'\u001B[39m][\u001B[38;5;241m0\u001B[39m]\n",
      "\u001B[1;31mTypeError\u001B[0m: 'NoneType' object is not subscriptable"
     ]
    }
   ],
   "source": [
    "def get_grid_sub_orders(order_type, algo_id, order_status):\n",
    "    params = {\n",
    "        \"algoOrdType\": order_type,\n",
    "        \"algoId\": algo_id,\n",
    "        \"type\": order_status,\n",
    "    }\n",
    "\n",
    "    result = request(\"GET\", \"/api/v5/tradingBot/grid/sub-orders\", params=params, auth=True)\n",
    "    return result\n",
    "\n",
    "result = get_grid_sub_orders('contract_grid', '688176870327844864', \"live\")\n",
    "len(result[0]['data'])\n",
    "result[0]['data'][0]"
   ],
   "metadata": {
    "collapsed": false,
    "ExecuteTime": {
     "end_time": "2024-03-14T05:07:00.342968600Z",
     "start_time": "2024-03-14T05:06:59.256504100Z"
    }
   },
   "id": "276f8f78ce849f2e"
  },
  {
   "cell_type": "code",
   "execution_count": 8,
   "outputs": [
    {
     "data": {
      "text/plain": "(None,\n {'code': '51291',\n  'data': [],\n  'msg': 'The bot doesn’t exist or has already stopped'})"
     },
     "execution_count": 8,
     "metadata": {},
     "output_type": "execute_result"
    }
   ],
   "source": [
    "def get_grid_positions(order_type, algo_id):\n",
    "    params = {\n",
    "        \"algoOrdType\": order_type,\n",
    "        \"algoId\": algo_id,\n",
    "    }\n",
    "\n",
    "    result = request(\"GET\", \"/api/v5/tradingBot/grid/positions\", params=params, auth=True)\n",
    "    return result\n",
    "\n",
    "result = get_grid_positions('contract_grid', '687008144513568768')\n",
    "result"
   ],
   "metadata": {
    "collapsed": false,
    "ExecuteTime": {
     "end_time": "2024-03-14T04:52:49.913792400Z",
     "start_time": "2024-03-14T04:52:49.725784500Z"
    }
   },
   "id": "fe29ddff16effa7"
  }
 ],
 "metadata": {
  "kernelspec": {
   "display_name": "Python 3",
   "language": "python",
   "name": "python3"
  },
  "language_info": {
   "codemirror_mode": {
    "name": "ipython",
    "version": 2
   },
   "file_extension": ".py",
   "mimetype": "text/x-python",
   "name": "python",
   "nbconvert_exporter": "python",
   "pygments_lexer": "ipython2",
   "version": "2.7.6"
  }
 },
 "nbformat": 4,
 "nbformat_minor": 5
}
