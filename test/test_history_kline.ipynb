{
 "cells": [
  {
   "cell_type": "code",
   "execution_count": 2,
   "id": "initial_id",
   "metadata": {
    "ExecuteTime": {
     "end_time": "2024-08-21T17:07:24.494615400Z",
     "start_time": "2024-08-21T17:07:24.475363500Z"
    },
    "collapsed": true
   },
   "outputs": [],
   "source": [
    "import base64\n",
    "import hmac\n",
    "import json\n",
    "import time\n",
    "import requests\n",
    "import toml\n",
    "\n",
    "from urllib.parse import urljoin\n",
    "\n",
    "# params\n",
    "base_url = 'https://www.dojqutmbiuuo.com'\n",
    "api_config = toml.load('../config/api.toml')\n",
    "api_key = api_config['api_key']\n",
    "secret_key = api_config['secret_key']\n",
    "passphrase = api_config['passphrase']"
   ]
  },
  {
   "cell_type": "code",
   "execution_count": 3,
   "id": "abe08a1ed2955b74",
   "metadata": {
    "ExecuteTime": {
     "end_time": "2024-08-21T05:49:16.843015900Z",
     "start_time": "2024-08-21T05:49:16.827537200Z"
    },
    "collapsed": false
   },
   "outputs": [],
   "source": [
    "def request(method, uri, params=None, body=None, headers=None, auth=False):\n",
    "    \"\"\"Initiate network request\n",
    "   @param method: request method, GET / POST / DELETE / PUT\n",
    "   @param uri: request uri\n",
    "   @param params: dict, request query params\n",
    "   @param body: dict, request body\n",
    "   @param headers: request http header\n",
    "   @param auth: boolean, add permission verification or not\n",
    "   \"\"\"\n",
    "    if params:\n",
    "        query = \"&\".join(\n",
    "            [\"{}={}\".format(k, params[k]) for k in sorted(params.keys())]\n",
    "        )\n",
    "        uri += \"?\" + query\n",
    "    url = urljoin(base_url, uri)\n",
    "\n",
    "    if auth:\n",
    "        timestamp = (\n",
    "                str(time.time()).split(\".\")[0]\n",
    "                + \".\"\n",
    "                + str(time.time()).split(\".\")[1][:3]\n",
    "        )\n",
    "        if body:\n",
    "            body = json.dumps(body)\n",
    "        else:\n",
    "            body = \"\"\n",
    "        message = str(timestamp) + str.upper(method) + uri + str(body)\n",
    "        mac = hmac.new(\n",
    "            bytes(secret_key, encoding=\"utf8\"),\n",
    "            bytes(message, encoding=\"utf-8\"),\n",
    "            digestmod=\"sha256\",\n",
    "        )\n",
    "        d = mac.digest()\n",
    "        sign = base64.b64encode(d)\n",
    "\n",
    "        if not headers:\n",
    "            headers = {}\n",
    "        headers[\"Content-Type\"] = \"application/json\"\n",
    "        headers[\"OK-ACCESS-KEY\"] = api_key\n",
    "        headers[\"OK-ACCESS-SIGN\"] = sign\n",
    "        headers[\"OK-ACCESS-TIMESTAMP\"] = str(timestamp)\n",
    "        headers[\"OK-ACCESS-PASSPHRASE\"] = passphrase\n",
    "    result = requests.request(\n",
    "        method, url, data=body, headers=headers, timeout=10\n",
    "    ).json()\n",
    "    if result.get(\"code\") and result.get(\"code\") != \"0\":\n",
    "        return None, result\n",
    "    return result, None"
   ]
  },
  {
   "cell_type": "code",
   "execution_count": 4,
   "id": "4d35a3ec",
   "metadata": {},
   "outputs": [],
   "source": [
    "from datetime import datetime\n",
    "\n",
    "def str_to_timestamp_ms(date_str, format_str=\"%Y-%m-%d\"):\n",
    "    # 将字符串转换为datetime对象\n",
    "    dt = datetime.strptime(date_str, format_str)\n",
    "    # 获取时间戳（秒）并转换为毫秒\n",
    "    timestamp_ms = int(dt.timestamp() * 1000)\n",
    "    return timestamp_ms\n",
    "\n",
    "def timestamp_ms_to_str(timestamp_ms, format_str=\"%Y-%m-%d\"):\n",
    "    # 将毫秒转换为秒\n",
    "    timestamp_s = timestamp_ms / 1000\n",
    "    # 转换为datetime对象\n",
    "    dt = datetime.fromtimestamp(timestamp_s)\n",
    "    # 转换为指定格式的字符串\n",
    "    return dt.strftime(format_str)"
   ]
  },
  {
   "cell_type": "code",
   "execution_count": 5,
   "id": "679af512",
   "metadata": {},
   "outputs": [
    {
     "data": {
      "text/plain": [
       "'2024-11-08'"
      ]
     },
     "execution_count": 5,
     "metadata": {},
     "output_type": "execute_result"
    }
   ],
   "source": [
    "timestamp_str = \"2024-11-09\"\n",
    "timestamp = str_to_timestamp_ms(timestamp_str, '%Y-%m-%d')\n",
    "timestamp_ms_to_str(1730995200000)"
   ]
  },
  {
   "cell_type": "code",
   "execution_count": 6,
   "id": "d47e22539d205c93",
   "metadata": {
    "ExecuteTime": {
     "end_time": "2024-08-21T05:51:29.885448300Z",
     "start_time": "2024-08-21T05:51:29.640766600Z"
    },
    "collapsed": false
   },
   "outputs": [
    {
     "name": "stdout",
     "output_type": "stream",
     "text": [
      "2019-01-01 00:00:00\n",
      "2019-04-10 00:00:00\n",
      "2019-07-18 00:00:00\n",
      "2019-10-25 00:00:00\n",
      "2020-02-01 00:00:00\n",
      "2020-05-10 00:00:00\n",
      "2020-08-17 00:00:00\n",
      "2020-11-24 00:00:00\n",
      "2021-03-03 00:00:00\n",
      "2021-06-10 00:00:00\n",
      "2021-09-17 00:00:00\n",
      "2021-12-25 00:00:00\n",
      "2022-04-03 00:00:00\n",
      "2022-07-11 00:00:00\n",
      "2022-10-18 00:00:00\n",
      "2023-01-25 00:00:00\n",
      "2023-05-04 00:00:00\n",
      "2023-08-11 00:00:00\n",
      "2023-11-18 00:00:00\n",
      "2024-02-25 00:00:00\n",
      "2024-06-03 00:00:00\n",
      "2024-09-10 00:00:00\n",
      "2024-12-18 00:00:00\n"
     ]
    }
   ],
   "source": [
    "import pandas as pd\n",
    "import time\n",
    "from datetime import datetime, timedelta\n",
    "\n",
    "def get_spot_klines(spot, begin, end, period='1D', limit=100):\n",
    "    all_klines = []\n",
    "    begin_dt = datetime.strptime(begin, \"%Y-%m-%d\")\n",
    "    end_dt = datetime.strptime(end, \"%Y-%m-%d\")\n",
    "    \n",
    "    while end_dt >= begin_dt:\n",
    "        print(begin_dt)\n",
    "        diff = abs((end_dt - begin_dt).days)\n",
    "        params = {\n",
    "            \"instId\": spot,\n",
    "            \"before\": str_to_timestamp_ms(begin_dt.strftime(\"%Y-%m-%d\")),\n",
    "            \"after\": str_to_timestamp_ms((begin_dt + timedelta(days=min(diff, limit))).strftime(\"%Y-%m-%d\")),\n",
    "            \"bar\": period,\n",
    "            \"limit\": limit,\n",
    "        }\n",
    "        \n",
    "        try:\n",
    "            result = request(\"GET\", \"/api/v5/market/history-candles\", params=params, auth=True)\n",
    "            klines = result[0]['data']\n",
    "            all_klines.extend(klines)\n",
    "            \n",
    "            begin_dt += timedelta(days=limit-1)\n",
    "            time.sleep(0.1)\n",
    "            \n",
    "        except Exception as e:\n",
    "            print(f\"Error fetching data: {e}\")\n",
    "            break\n",
    "    \n",
    "    # 处理所有收集到的数据\n",
    "    df = None\n",
    "    try:\n",
    "        if all_klines:\n",
    "            cols = ['timestamp', 'open', 'high', 'low', 'close', 'vol', 'volCcy', 'volCcyQuote', 'confirm']\n",
    "            kline_dict = {col: [] for col in cols}\n",
    "            \n",
    "            for kline in all_klines:\n",
    "                kline[0] = timestamp_ms_to_str(int(kline[0]))\n",
    "                for idx, col in enumerate(cols):\n",
    "                    kline_dict[col].append(kline[idx] if col == 'timestamp' else float(kline[idx]))\n",
    "            \n",
    "            df = pd.DataFrame(kline_dict)\n",
    "            # 按时间排序并去重\n",
    "            df = df.sort_values('timestamp').drop_duplicates(subset=['timestamp']).reset_index(drop=True)\n",
    "            \n",
    "    except Exception as e:\n",
    "        print(f\"Error processing data: {e}\")\n",
    "    \n",
    "    return df\n",
    "\n",
    "# 使用示例\n",
    "df = get_spot_klines('BTC-USDT', '2019-01-01', '2024-12-21')\n",
    "df\n",
    "df.to_csv('./assets/btc.csv', index=False)"
   ]
  }
 ],
 "metadata": {
  "kernelspec": {
   "display_name": ".venv",
   "language": "python",
   "name": "python3"
  },
  "language_info": {
   "codemirror_mode": {
    "name": "ipython",
    "version": 3
   },
   "file_extension": ".py",
   "mimetype": "text/x-python",
   "name": "python",
   "nbconvert_exporter": "python",
   "pygments_lexer": "ipython3",
   "version": "3.9.9"
  }
 },
 "nbformat": 4,
 "nbformat_minor": 5
}
